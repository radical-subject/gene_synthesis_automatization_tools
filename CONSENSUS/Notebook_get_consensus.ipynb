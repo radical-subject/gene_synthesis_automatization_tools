{
 "cells": [
  {
   "cell_type": "code",
   "execution_count": 2,
   "id": "02dc97d8-8cdf-4021-81ac-5a046cb86b41",
   "metadata": {},
   "outputs": [],
   "source": [
    "import numpy as np \n",
    "import matplotlib.pyplot as plt\n",
    "from Bio.SeqIO import parse\n",
    "from tqdm import tqdm"
   ]
  },
  {
   "cell_type": "code",
   "execution_count": 3,
   "id": "99f51811-83ea-4251-8631-10501e7528d8",
   "metadata": {},
   "outputs": [],
   "source": [
    "def get_msa_info(msa_path):\n",
    "    \n",
    "    opn_msa = parse(msa_path, 'fasta')\n",
    "    consensus_possitions = {}\n",
    "\n",
    "    for line in tqdm(opn_msa):\n",
    "        \n",
    "        shift = 0\n",
    "        \n",
    "        for possition in range(len(line.seq)):\n",
    "            \n",
    "            if possition not in consensus_possitions:\n",
    "    \n",
    "                consensus_possitions[possition] = []\n",
    "            consensus_possitions[possition].append(line.seq[possition])\n",
    "            \n",
    "            if line.seq[possition] == '-':\n",
    "                shift += 1\n",
    "                continue\n",
    "    \n",
    "    return consensus_possitions\n",
    "\n",
    "def most_common(lst):\n",
    "\n",
    "    return max(set(lst), key=lst.count)\n",
    "    \n",
    "def get_consensus(consensus_possitions):\n",
    "    \n",
    "    protoconsensus = \"\"\n",
    "    \n",
    "    for i in tqdm(consensus_possitions.keys()):\n",
    "        if consensus_possitions[i].count('-') > len(consensus_possitions[i])/2:\n",
    "        \n",
    "            letter_possition = '-'\n",
    "        else:\n",
    "            consensus_possitions[i] = list(np.array(consensus_possitions[i])[np.array(consensus_possitions[i]) != '-'])\n",
    "            \n",
    "        letter_possition = most_common(consensus_possitions[i])\n",
    "        \n",
    "        protoconsensus += letter_possition\n",
    "     \n",
    "    protoconsensus = protoconsensus.replace('-', '').upper()\n",
    "    \n",
    "    return protoconsensus"
   ]
  },
  {
   "cell_type": "code",
   "execution_count": 4,
   "id": "7e87ec47-8272-4033-8430-838015eb36e4",
   "metadata": {},
   "outputs": [],
   "source": [
    "opn_fasta = parse('./data/Tdt-proteins.fasta', 'fasta')\n",
    "lens = []\n",
    "seqids = []\n",
    "usereads = []\n",
    "\n",
    "for seq in opn_fasta:\n",
    "    if 'DNA nucleotidylexotransferase' not in seq.description:\n",
    "        continue\n",
    "    if 'fragment' in seq.description.lower():\n",
    "        continue\n",
    "    if 'domain' in seq.description.lower():\n",
    "        continue\n",
    "    if 'Putative ' in seq.description.lower():\n",
    "        continue\n",
    "    if 'subunit' in seq.description.lower():\n",
    "        continue\n",
    "    lens.append(len(seq.seq))\n",
    "    seqids.append(seq.id)\n",
    "\n",
    "lens = np.array(lens)\n",
    "seqids = np.array(seqids)"
   ]
  },
  {
   "cell_type": "code",
   "execution_count": null,
   "id": "c80a264e-8c6a-4fe9-9f61-60c9806b1733",
   "metadata": {},
   "outputs": [],
   "source": [
    "right_part= lens[lens > np.median(lens)]\n",
    "left_part= lens[lens < np.median(lens)]\n",
    "right_edged = np.sort(right_part)[: int(len(right_part)/100*30)]\n",
    "left_edged = np.sort(left_part)[int(len(left_part)/100*30) :]\n",
    "rght_lim = np.max(right_edged)\n",
    "left_lim = np.min(left_edged)\n",
    "\n",
    "lenslim_subset_R = lens[lens < rght_lim]\n",
    "ids_lims_R = seqids[lens < rght_lim]\n",
    "filterd_seq = ids_lims_R[lenslim_subset_R > left_lim]\n",
    "\n",
    "opn_fasta = parse('./data/Tdt-proteins.fasta', 'fasta')\n",
    "\n",
    "with open('./data/Tdt-proteins_cleared_data.fasta', 'w') as new_fasta:\n",
    "    for seq in opn_fasta:\n",
    "        \n",
    "        if seq.id not in filterd_seq:\n",
    "            continue\n",
    "            \n",
    "        new_fasta.write(seq.format('fasta'))"
   ]
  },
  {
   "cell_type": "code",
   "execution_count": null,
   "id": "f38d0eaa-21c0-4c9f-89b3-ee3d17271422",
   "metadata": {
    "scrolled": true
   },
   "outputs": [],
   "source": [
    "!mafft ./data/Tdt-proteins_cleared_data.fasta > ./data/Tdt-proteins_cleared_data.afa"
   ]
  },
  {
   "cell_type": "markdown",
   "id": "d5ab842d-6b13-43ec-8664-e411afc7cae3",
   "metadata": {},
   "source": [
    "## All Archaea"
   ]
  },
  {
   "cell_type": "code",
   "execution_count": 5,
   "id": "ab40a1ed-6c0a-4dde-bfa9-6788981db081",
   "metadata": {},
   "outputs": [
    {
     "name": "stderr",
     "output_type": "stream",
     "text": [
      "373it [00:00, 661.21it/s]\n",
      "100%|██████████| 508/508 [00:00<00:00, 3203.76it/s]"
     ]
    },
    {
     "name": "stdout",
     "output_type": "stream",
     "text": [
      "MDRIRAPAVISQRKRQKGMHSPKLSCSYEIKFSKFVIFIMQRKMGMTRRTFLMELARRKGFRVESELSDSVTHIVAENNSYLEVLDWLKGQAVGDSSRFELLDISWFTACMEAGRPVDSEMKYRLMEQDQSPPLNTPESEVPSFIATKVSQYSCQRKTTLNNYNKKFTDAFEIMAENYEFKENEIFCLEFLRAASLLKSLPFPVTRMKDIQGLPCMGDQVRDIIEEIIEEGESSRVKEVLNDERYKSFKQFTSVFGVGVKTSEKWYRMGLRTVEEVKADKTLKLSKMQKAGFLYYEDLVSCVSKAEADAVSLIVKNTVCTFLPDALVTITGGFRRGKKIGHDIDFLITNPGPREDDELLHKGLLLYCDIIESTFVKEQLPSRKVDAMDHFQKCFAILKLYQPRVDNSSYNTSKKLDMAEVKDWKAIRVDLVITPFEQYAYALLGWTGSRQFGRDLRRYATHERKMILDNHALYDRRKRIFLKAGSEEEIFAHLGLDYVEPWERNAANA\n"
     ]
    },
    {
     "name": "stderr",
     "output_type": "stream",
     "text": [
      "\n"
     ]
    }
   ],
   "source": [
    "consensus_possitions = get_msa_info(f'./data/Tdt-proteins_cleared_data.fasta')\n",
    "consensus = get_consensus(consensus_possitions)\n",
    "print(consensus)"
   ]
  },
  {
   "cell_type": "markdown",
   "id": "44379d4b-fd1a-4de4-bd7e-04a06c5fafe8",
   "metadata": {},
   "source": [
    "## All sequenses"
   ]
  },
  {
   "cell_type": "code",
   "execution_count": 6,
   "id": "de47700d-ccf5-438e-b540-d5689c572170",
   "metadata": {},
   "outputs": [
    {
     "name": "stderr",
     "output_type": "stream",
     "text": [
      "373it [00:00, 668.36it/s]\n"
     ]
    }
   ],
   "source": [
    "consensus_possitions = get_msa_info('./data/Tdt-proteins_cleared_data.fasta')"
   ]
  },
  {
   "cell_type": "code",
   "execution_count": 7,
   "id": "c85b8496-2ce8-42f4-a3ee-58a53415430f",
   "metadata": {},
   "outputs": [
    {
     "name": "stderr",
     "output_type": "stream",
     "text": [
      "100%|██████████| 508/508 [00:00<00:00, 2501.01it/s]\n"
     ]
    }
   ],
   "source": [
    "consensus = get_consensus(consensus_possitions)"
   ]
  },
  {
   "cell_type": "code",
   "execution_count": 8,
   "id": "d1a72c80-cfa6-4f06-b49f-d346408bf643",
   "metadata": {},
   "outputs": [
    {
     "data": {
      "text/plain": [
       "'MDRIRAPAVISQRKRQKGMHSPKLSCSYEIKFSKFVIFIMQRKMGMTRRTFLMELARRKGFRVESELSDSVTHIVAENNSYLEVLDWLKGQAVGDSSRFELLDISWFTACMEAGRPVDSEMKYRLMEQDQSPPLNTPESEVPSFIATKVSQYSCQRKTTLNNYNKKFTDAFEIMAENYEFKENEIFCLEFLRAASLLKSLPFPVTRMKDIQGLPCMGDQVRDIIEEIIEEGESSRVKEVLNDERYKSFKQFTSVFGVGVKTSEKWYRMGLRTVEEVKADKTLKLSKMQKAGFLYYEDLVSCVSKAEADAVSLIVKNTVCTFLPDALVTITGGFRRGKKIGHDIDFLITNPGPREDDELLHKGLLLYCDIIESTFVKEQLPSRKVDAMDHFQKCFAILKLYQPRVDNSSYNTSKKLDMAEVKDWKAIRVDLVITPFEQYAYALLGWTGSRQFGRDLRRYATHERKMILDNHALYDRRKRIFLKAGSEEEIFAHLGLDYVEPWERNAANA'"
      ]
     },
     "execution_count": 8,
     "metadata": {},
     "output_type": "execute_result"
    }
   ],
   "source": [
    "consensus"
   ]
  },
  {
   "cell_type": "markdown",
   "id": "bbcd813e-b57d-4ab2-a5e8-bf6f0b84556c",
   "metadata": {},
   "source": [
    "## Filtered data"
   ]
  },
  {
   "cell_type": "code",
   "execution_count": 9,
   "id": "f1b254dc-33d8-4b9a-b693-6fc998ce9336",
   "metadata": {},
   "outputs": [
    {
     "ename": "FileNotFoundError",
     "evalue": "[Errno 2] No such file or directory: 'cleared_data.afa'",
     "output_type": "error",
     "traceback": [
      "\u001b[0;31m---------------------------------------------------------------------------\u001b[0m",
      "\u001b[0;31mFileNotFoundError\u001b[0m                         Traceback (most recent call last)",
      "\u001b[0;32m/tmp/ipykernel_5949/1006060224.py\u001b[0m in \u001b[0;36m<module>\u001b[0;34m\u001b[0m\n\u001b[0;32m----> 1\u001b[0;31m \u001b[0mconsensus_possitions\u001b[0m \u001b[0;34m=\u001b[0m \u001b[0mget_msa_info\u001b[0m\u001b[0;34m(\u001b[0m\u001b[0;34m'cleared_data.afa'\u001b[0m\u001b[0;34m)\u001b[0m\u001b[0;34m\u001b[0m\u001b[0;34m\u001b[0m\u001b[0m\n\u001b[0m",
      "\u001b[0;32m/tmp/ipykernel_5949/3088991577.py\u001b[0m in \u001b[0;36mget_msa_info\u001b[0;34m(msa_path)\u001b[0m\n\u001b[1;32m      1\u001b[0m \u001b[0;32mdef\u001b[0m \u001b[0mget_msa_info\u001b[0m\u001b[0;34m(\u001b[0m\u001b[0mmsa_path\u001b[0m\u001b[0;34m)\u001b[0m\u001b[0;34m:\u001b[0m\u001b[0;34m\u001b[0m\u001b[0;34m\u001b[0m\u001b[0m\n\u001b[1;32m      2\u001b[0m \u001b[0;34m\u001b[0m\u001b[0m\n\u001b[0;32m----> 3\u001b[0;31m     \u001b[0mopn_msa\u001b[0m \u001b[0;34m=\u001b[0m \u001b[0mparse\u001b[0m\u001b[0;34m(\u001b[0m\u001b[0mmsa_path\u001b[0m\u001b[0;34m,\u001b[0m \u001b[0;34m'fasta'\u001b[0m\u001b[0;34m)\u001b[0m\u001b[0;34m\u001b[0m\u001b[0;34m\u001b[0m\u001b[0m\n\u001b[0m\u001b[1;32m      4\u001b[0m     \u001b[0mconsensus_possitions\u001b[0m \u001b[0;34m=\u001b[0m \u001b[0;34m{\u001b[0m\u001b[0;34m}\u001b[0m\u001b[0;34m\u001b[0m\u001b[0;34m\u001b[0m\u001b[0m\n\u001b[1;32m      5\u001b[0m \u001b[0;34m\u001b[0m\u001b[0m\n",
      "\u001b[0;32m/opt/conda/lib/python3.7/site-packages/Bio/SeqIO/__init__.py\u001b[0m in \u001b[0;36mparse\u001b[0;34m(handle, format, alphabet)\u001b[0m\n\u001b[1;32m    603\u001b[0m     \u001b[0miterator_generator\u001b[0m \u001b[0;34m=\u001b[0m \u001b[0m_FormatToIterator\u001b[0m\u001b[0;34m.\u001b[0m\u001b[0mget\u001b[0m\u001b[0;34m(\u001b[0m\u001b[0mformat\u001b[0m\u001b[0;34m)\u001b[0m\u001b[0;34m\u001b[0m\u001b[0;34m\u001b[0m\u001b[0m\n\u001b[1;32m    604\u001b[0m     \u001b[0;32mif\u001b[0m \u001b[0miterator_generator\u001b[0m\u001b[0;34m:\u001b[0m\u001b[0;34m\u001b[0m\u001b[0;34m\u001b[0m\u001b[0m\n\u001b[0;32m--> 605\u001b[0;31m         \u001b[0;32mreturn\u001b[0m \u001b[0miterator_generator\u001b[0m\u001b[0;34m(\u001b[0m\u001b[0mhandle\u001b[0m\u001b[0;34m)\u001b[0m\u001b[0;34m\u001b[0m\u001b[0;34m\u001b[0m\u001b[0m\n\u001b[0m\u001b[1;32m    606\u001b[0m     \u001b[0;32mif\u001b[0m \u001b[0mformat\u001b[0m \u001b[0;32min\u001b[0m \u001b[0mAlignIO\u001b[0m\u001b[0;34m.\u001b[0m\u001b[0m_FormatToIterator\u001b[0m\u001b[0;34m:\u001b[0m\u001b[0;34m\u001b[0m\u001b[0;34m\u001b[0m\u001b[0m\n\u001b[1;32m    607\u001b[0m         \u001b[0;31m# Use Bio.AlignIO to read in the alignments\u001b[0m\u001b[0;34m\u001b[0m\u001b[0;34m\u001b[0m\u001b[0;34m\u001b[0m\u001b[0m\n",
      "\u001b[0;32m/opt/conda/lib/python3.7/site-packages/Bio/SeqIO/FastaIO.py\u001b[0m in \u001b[0;36m__init__\u001b[0;34m(self, source, alphabet, title2ids)\u001b[0m\n\u001b[1;32m    221\u001b[0m             )\n\u001b[1;32m    222\u001b[0m         \u001b[0mself\u001b[0m\u001b[0;34m.\u001b[0m\u001b[0mtitle2ids\u001b[0m \u001b[0;34m=\u001b[0m \u001b[0mtitle2ids\u001b[0m\u001b[0;34m\u001b[0m\u001b[0;34m\u001b[0m\u001b[0m\n\u001b[0;32m--> 223\u001b[0;31m         \u001b[0msuper\u001b[0m\u001b[0;34m(\u001b[0m\u001b[0;34m)\u001b[0m\u001b[0;34m.\u001b[0m\u001b[0m__init__\u001b[0m\u001b[0;34m(\u001b[0m\u001b[0msource\u001b[0m\u001b[0;34m,\u001b[0m \u001b[0mmode\u001b[0m\u001b[0;34m=\u001b[0m\u001b[0;34m\"t\"\u001b[0m\u001b[0;34m,\u001b[0m \u001b[0mfmt\u001b[0m\u001b[0;34m=\u001b[0m\u001b[0;34m\"Fasta\"\u001b[0m\u001b[0;34m)\u001b[0m\u001b[0;34m\u001b[0m\u001b[0;34m\u001b[0m\u001b[0m\n\u001b[0m\u001b[1;32m    224\u001b[0m \u001b[0;34m\u001b[0m\u001b[0m\n\u001b[1;32m    225\u001b[0m     \u001b[0;32mdef\u001b[0m \u001b[0mparse\u001b[0m\u001b[0;34m(\u001b[0m\u001b[0mself\u001b[0m\u001b[0;34m,\u001b[0m \u001b[0mhandle\u001b[0m\u001b[0;34m)\u001b[0m\u001b[0;34m:\u001b[0m\u001b[0;34m\u001b[0m\u001b[0;34m\u001b[0m\u001b[0m\n",
      "\u001b[0;32m/opt/conda/lib/python3.7/site-packages/Bio/SeqIO/Interfaces.py\u001b[0m in \u001b[0;36m__init__\u001b[0;34m(self, source, alphabet, mode, fmt)\u001b[0m\n\u001b[1;32m     43\u001b[0m             \u001b[0;32mraise\u001b[0m \u001b[0mValueError\u001b[0m\u001b[0;34m(\u001b[0m\u001b[0;34m\"The alphabet argument is no longer supported\"\u001b[0m\u001b[0;34m)\u001b[0m\u001b[0;34m\u001b[0m\u001b[0;34m\u001b[0m\u001b[0m\n\u001b[1;32m     44\u001b[0m         \u001b[0;32mtry\u001b[0m\u001b[0;34m:\u001b[0m\u001b[0;34m\u001b[0m\u001b[0;34m\u001b[0m\u001b[0m\n\u001b[0;32m---> 45\u001b[0;31m             \u001b[0mself\u001b[0m\u001b[0;34m.\u001b[0m\u001b[0mstream\u001b[0m \u001b[0;34m=\u001b[0m \u001b[0mopen\u001b[0m\u001b[0;34m(\u001b[0m\u001b[0msource\u001b[0m\u001b[0;34m,\u001b[0m \u001b[0;34m\"r\"\u001b[0m \u001b[0;34m+\u001b[0m \u001b[0mmode\u001b[0m\u001b[0;34m)\u001b[0m\u001b[0;34m\u001b[0m\u001b[0;34m\u001b[0m\u001b[0m\n\u001b[0m\u001b[1;32m     46\u001b[0m             \u001b[0mself\u001b[0m\u001b[0;34m.\u001b[0m\u001b[0mshould_close_stream\u001b[0m \u001b[0;34m=\u001b[0m \u001b[0;32mTrue\u001b[0m\u001b[0;34m\u001b[0m\u001b[0;34m\u001b[0m\u001b[0m\n\u001b[1;32m     47\u001b[0m         \u001b[0;32mexcept\u001b[0m \u001b[0mTypeError\u001b[0m\u001b[0;34m:\u001b[0m  \u001b[0;31m# not a path, assume we received a stream\u001b[0m\u001b[0;34m\u001b[0m\u001b[0;34m\u001b[0m\u001b[0m\n",
      "\u001b[0;31mFileNotFoundError\u001b[0m: [Errno 2] No such file or directory: 'cleared_data.afa'"
     ]
    }
   ],
   "source": [
    "consensus_possitions = get_msa_info('cleared_data.afa')"
   ]
  },
  {
   "cell_type": "code",
   "execution_count": null,
   "id": "6dac3d73-54d6-4d85-92ac-4a7e378dfe30",
   "metadata": {},
   "outputs": [],
   "source": [
    "consensus = get_consensus(consensus_possitions)"
   ]
  },
  {
   "cell_type": "markdown",
   "id": "8fb6ba8f-54e8-475d-b53d-e5999fadcd6e",
   "metadata": {},
   "source": [
    "## Draw tree"
   ]
  },
  {
   "cell_type": "code",
   "execution_count": null,
   "id": "3536f106-ef96-40b9-bf3a-c72444a4e34d",
   "metadata": {},
   "outputs": [],
   "source": [
    "from pandas import read_csv\n",
    "sequence_annotation = read_csv('DNA_poly_betta_acrhea/uniprotkb_dna_polymerase_beta_AND_taxon_2023_09_11.tsv', sep='\\t', index_col=0)\n",
    "sequence_annotation['Taxonomic lineage']['A0A060HHM4'].split(', ')[-2]"
   ]
  },
  {
   "cell_type": "code",
   "execution_count": null,
   "id": "57bc3b01-2f73-4ad9-889a-f1148185a263",
   "metadata": {},
   "outputs": [],
   "source": [
    "'''5.2.1 Psychrophiles and their sources\n",
    "The optimum growth temperature required for psychrophiles to grow and reproduce is below 15°C whereas for psychrotrophs it ranges from 20°C to 25°C. Psychrophilic microorganisms inhabits in the cold regions of the Earth including polar zones, high mountains, glaciers, and deep oceans. Psychrophiles are also well accumulated in pockets of sea ice with high pH, salinity, inorganic nutrients, dissolved gases and light [20,28]. Psychrophilic microorganisms, including bacteria (e.g., Pseudoalteromonas and Pseudomonas), archaea (e.g., Methanogenium and Methanococcoides),'''"
   ]
  },
  {
   "cell_type": "code",
   "execution_count": null,
   "id": "77c713e8-8d6a-4470-8fa3-e140110fe98e",
   "metadata": {},
   "outputs": [],
   "source": [
    "'The most thermophilic microorganisms genera present in archaea domain Thermoplasma, Sulfolobus, Methanogens, Pyrococcus, and Pyrolobus (Rothschild and Mancinelli, 2001; Gadd, 2010; Sar et al., 2013).'"
   ]
  },
  {
   "cell_type": "code",
   "execution_count": null,
   "id": "cf94c465-6462-40f2-8722-844a010e2c2a",
   "metadata": {},
   "outputs": [],
   "source": [
    "import random \n",
    "\n",
    "def get_color(obj_dict):\n",
    "    \n",
    "    color = ''\n",
    "    \n",
    "    while color not in obj_dict.values() and color == '':\n",
    "        \n",
    "        color = \"#\"+''.join([random.choice('0123456789ABCDEF') for j in range(6)])\n",
    "    \n",
    "    return color\n",
    "    \n",
    "taxonomy_color = {}\n",
    "colors = {}\n",
    "taxonomy_color['Unknown'] = 'black'\n",
    "\n",
    "for line in parse('DNA_poly_betta_acrhea/uniprotkb_dna_polymerase_beta_AND_taxon_2023_09_08.fasta', 'fasta'):\n",
    "    try:\n",
    "        \n",
    "        tax = sequence_annotation['Taxonomic lineage'][line.id.split('|')[1]].split(', ')[6]\n",
    "    \n",
    "    except:\n",
    "        \n",
    "        tax = 'Unknown'\n",
    "    if 'Therm' not in tax:\n",
    "        taxonomy_color[tax] = 'black'\n",
    "        \n",
    "    else:      \n",
    "        if tax not in taxonomy_color: \n",
    "        \n",
    "            taxonomy_color[tax] = get_color(taxonomy_color)\n",
    "    \n",
    "    colors[line.id] = taxonomy_color[tax]\n",
    "    "
   ]
  },
  {
   "cell_type": "code",
   "execution_count": null,
   "id": "83e016ab-489e-4f89-b19a-d8c6ca0226c9",
   "metadata": {},
   "outputs": [],
   "source": [
    "termos = []\n",
    "psychros = []\n",
    "most_temoph = ['Thermoplasma', 'Sulfolobus', 'Methanogens', 'Pyrococcus', 'Pyrolobus']\n",
    "most_psychro = ['Methanogenium', 'Methanococcoides']\n",
    "\n",
    "for term in most_temoph:\n",
    "    \n",
    "    termos.extend(list(sequence_annotation[sequence_annotation['Taxonomic lineage'].str.contains(term)].index))\n",
    "\n",
    "for psy in most_psychro:\n",
    "\n",
    "    psychros.extend(list(sequence_annotation[sequence_annotation['Taxonomic lineage'].str.contains(psy)].index))\n",
    "\n",
    "    \n",
    "lens = []\n",
    "seqs = []\n",
    "lines = []\n",
    "taxes = []\n",
    "ids = []\n",
    "\n",
    "with open('DNA_poly_term.fasta', 'w') as opn_new_fasta:\n",
    "    \n",
    "    for line in parse('DNA_poly_betta_acrhea/uniprotkb_dna_polymerase_beta_AND_taxon_2023_09_08.fasta', 'fasta'):\n",
    "        if line.id.split('|')[1] not in termos:\n",
    "            continue\n",
    "        if 'DNA polymerase beta' not in line.description:\n",
    "            continue\n",
    "        if 'fragment' in line.description.lower():\n",
    "            continue\n",
    "        if 'domain' in line.description.lower():\n",
    "            continue\n",
    "        if 'Putative ' in line.description.lower():\n",
    "            continue\n",
    "        if 'subunit' in line.description.lower():\n",
    "            continue\n",
    "        if line.seq in seqs:\n",
    "            continue\n",
    "        if ' '.join(line.description.split(' OX')[0].split('OS=')[1].split()[: 2]) in taxes:\n",
    "            continue\n",
    "        print(line.description)\n",
    "        opn_new_fasta.write(line.format('fasta'))\n",
    "        lens.append(len(line.seq))\n",
    "        lines.append(line)\n",
    "        taxes.append(' '.join(line.description.split(' OX')[0].split('OS=')[1].split()[: 2]))\n",
    "        ids.append(line.id)\n",
    "        seqs.append(line.seq)\n",
    "        \n",
    "        "
   ]
  },
  {
   "cell_type": "code",
   "execution_count": null,
   "id": "32d15939-2ec4-4ab1-b305-0fdf75e605d7",
   "metadata": {},
   "outputs": [],
   "source": [
    "lens = []\n",
    "seqs = []\n",
    "lines = []\n",
    "taxes = []\n",
    "ids = []\n",
    "\n",
    "with open('DNA_poly_psychros.fasta', 'w') as opn_new_fasta:\n",
    "    \n",
    "    for line in parse('DNA_poly_betta_acrhea/uniprotkb_dna_polymerase_beta_AND_taxon_2023_09_08.fasta', 'fasta'):\n",
    "        if line.id.split('|')[1] not in psychros:\n",
    "            continue\n",
    "        if 'DNA polymerase beta' not in line.description:\n",
    "            continue\n",
    "        if 'fragment' in line.description.lower():\n",
    "            continue\n",
    "        if 'domain' in line.description.lower():\n",
    "            continue\n",
    "        if 'Putative ' in line.description.lower():\n",
    "            continue\n",
    "        if 'subunit' in line.description.lower():\n",
    "            continue\n",
    "        if line.seq in seqs:\n",
    "            continue\n",
    "        if ' '.join(line.description.split(' OX')[0].split('OS=')[1].split()[: 2]) in taxes:\n",
    "            continue\n",
    "        print(line.description)\n",
    "        opn_new_fasta.write(line.format('fasta'))\n",
    "        lens.append(len(line.seq))\n",
    "        lines.append(line)\n",
    "        taxes.append(' '.join(line.description.split(' OX')[0].split('OS=')[1].split()[: 2]))\n",
    "        ids.append(line.id)\n",
    "        seqs.append(line.seq)"
   ]
  },
  {
   "cell_type": "markdown",
   "id": "06f5c407-339c-4b5f-823d-00ba49388ffc",
   "metadata": {},
   "source": [
    "## Thermophilus consensus"
   ]
  },
  {
   "cell_type": "code",
   "execution_count": null,
   "id": "606c74d3-a55c-4c4f-bd94-065232e5c6e7",
   "metadata": {},
   "outputs": [],
   "source": [
    "consensus_possitions = get_msa_info(f'DNA_poly_term.afa')\n",
    "consensus = get_consensus(consensus_possitions)\n",
    "print(consensus)"
   ]
  },
  {
   "cell_type": "code",
   "execution_count": null,
   "id": "c3bf9466-357f-4993-9e96-c9b7c1746d00",
   "metadata": {},
   "outputs": [],
   "source": [
    "from Bio import Phylo\n",
    "import matplotlib.pyplot as plt\n",
    "import matplotlib \n",
    "import seaborn as sns\n",
    "\n",
    "matplotlib.rc('font', size=5)\n",
    "tree = Phylo.read(\"DNA_poly_betta_acrhea/uniprotkb_dna_polymerase_beta_AND_taxon_2023_09_08.newick\", \"newick\")\n",
    "tree.ladderize()  # Flip branches so deeper clades are displayed at top\n",
    "fig, ax= plt.subplots(figsize=(100, 100))\n",
    "Phylo.draw(tree,\n",
    "           axes=ax,\n",
    "           do_show=False,\n",
    "           label_colors=colors)\n",
    "\n",
    "plt.text(5, 7, 'Species:', fontsize=20)      \n",
    "c = 20\n",
    "\n",
    "for i in taxonomy_color.keys():\n",
    "    \n",
    "    plt.text(5, c, i, fontsize=20, color=taxonomy_color[i])\n",
    "    c += 10\n",
    "\n",
    "plt.axis('off')\n",
    "#plt.savefig('KS_T2.pdf', bbox_inches='tight')\n",
    "plt.show()"
   ]
  },
  {
   "cell_type": "markdown",
   "id": "980bbb9e-b853-48af-9cf6-d242a48b2c88",
   "metadata": {},
   "source": [
    "## TDT polymerase"
   ]
  },
  {
   "cell_type": "code",
   "execution_count": null,
   "id": "c162ed7b-7682-4fb9-a851-69ecfb0609f2",
   "metadata": {},
   "outputs": [],
   "source": [
    "taxes = []\n",
    "with open(f'/mnt/iscsidisk1/runs/runs-krivonos/PROJECTS/CONSENSUS_SEQ/TDT_bird/filtered.fasta', 'w') as opn_fasta:\n",
    "    for seq in parse(f'/mnt/iscsidisk1/runs/runs-krivonos/PROJECTS/CONSENSUS_SEQ/TDT_bird/uniprotkb_tdt_AND_taxonomy_id_8782_2023_09_15.fasta', 'fasta'):\n",
    "        if 'nucleotidylexotransferase' not in seq.description:\n",
    "            continue\n",
    "        if 'Fragment' in seq.description:\n",
    "            continue\n",
    "        if ' '.join(seq.description.split(' OX')[0].split('OS=')[1].split()[: 2]) in taxes:   \n",
    "            continue\n",
    "    \n",
    "        opn_fasta.write(seq.format('fasta'))\n",
    "        taxes.append(' '.join(seq.description.split(' OX')[0].split('OS=')[1].split()[: 2]))\n"
   ]
  },
  {
   "cell_type": "code",
   "execution_count": null,
   "id": "7c33a3e0-bc14-44ff-802b-d50992d7e430",
   "metadata": {},
   "outputs": [],
   "source": [
    "consensus_possitions = get_msa_info(f'/mnt/iscsidisk1/runs/runs-krivonos/PROJECTS/CONSENSUS_SEQ/TDT_bird/filtered.afa')\n",
    "consensus = get_consensus(consensus_possitions)\n",
    "print(consensus)"
   ]
  },
  {
   "cell_type": "code",
   "execution_count": null,
   "id": "cc4fb564-04be-4f78-9cab-d54a09d3a2fb",
   "metadata": {},
   "outputs": [],
   "source": [
    "opn_fasta = parse(f'/mnt/iscsidisk1/runs/runs-krivonos/PROJECTS/CONSENSUS_SEQ/test_balst.afa', 'fasta')\n",
    "sequences = []\n",
    "\n",
    "for seq in opn_fasta:\n",
    "    \n",
    "    sequences.append(seq.seq)\n",
    "    print(seq.seq)"
   ]
  },
  {
   "cell_type": "code",
   "execution_count": null,
   "id": "394f76aa-0244-42c3-b10a-e6225aa65881",
   "metadata": {},
   "outputs": [],
   "source": [
    "for idx in range(len(sequences[0])):\n",
    "    #print(sequences[0][idx], sequences[1][idx])\n",
    "    if sequences[0][idx] != sequences[1][idx]:\n",
    "        print(f'{sequences[0][idx]}{idx}{sequences[1][idx]}')"
   ]
  },
  {
   "cell_type": "code",
   "execution_count": null,
   "id": "9e1724ab-6aa7-4b13-9815-74d49f0f5c4f",
   "metadata": {},
   "outputs": [],
   "source": [
    "interpro_tab = read_csv('bird_consensus_interpro_sacan.tsv', sep='\\t', header=None)\n",
    "pfam_data_bird = interpro_tab[interpro_tab[3] == 'Pfam'].sort_values(by=6)\n",
    "bird_cons = 'MDRIRAPAVFSQRKRQKGMHSPNLSCSYEIKFNKFVIFIMQRKMGMTRRTFLMELARRKGFRVESELSDSVTHIVAENNSYLEVLDWLRGQAVGDSSRFELLDISWFTACMEAGRPVDSEMKYRLMEQDQSPPLNTPESEVPSFIASKVSQYSCQRKTTLNNYNKKFTDAFEIMAENYEFKENEIFCLEFLRAASVLKFLPFPVTRMKDIQGLPCMGDRVRDVIEEIIEEGESSRAKEVLNDERYKSFKQFTSVFGVGVKTSEKWYRMGLRTLEEVKADKTLKLSKMQKAGFLYYEDLVSCVSKAEADAVSLIVKNTVCTFLPDALVTITGGFRRGKKIGHDIDFLITNPGPREDDELLHKGLLLYCDIIESTFVKEQLPSRKVDAMDNFQKCFAILKLYQPRVDNSSYNTSKKFDMAEVKDWKAIRVDLVITPFEQYAYALLGWTGSRQFGRDLRRYATHERKMILDNHALYDRRKRIFLKAGSEEEIFAHLGLDYVEPWERNA'"
   ]
  },
  {
   "cell_type": "code",
   "execution_count": null,
   "id": "16a39656-5316-4cb5-ab43-9e85e7cf280d",
   "metadata": {},
   "outputs": [],
   "source": [
    "interpro_tab = read_csv('archea_termophil_interpro.tsv', sep='\\t', header=None)\n",
    "pfam_data_term = interpro_tab[interpro_tab[3] == 'Pfam'].sort_values(by=6)\n",
    "tero_cons = 'MVNSQVASILEQIADLLELKGKSFFEARAYQRAARTLESLEEDVEDLYSRGALTSIPGIGKGIADKITEYVKTGTIGYLEDLKKEYPIGLIDLLRIPGLGPKKIKSLYKELGIKSIDELKKAAEEHRIRSLPGFGEKSEEKILKGIDLLESSSGRILLDVGYPYGRKIEEYLARSSGVDRVSLAGSLRRMKETIGDIDILASSEDPQKVMDAFISYPDVAEVLGKGDTKTSIILEDGVQVDLRVVDPSSFGAALQYFTGSKEHNIKLRKLAIDKGLKLNEYGLFRKDDKNIVAGKDEEDIYKHLGMDYIPPELREDRGEIEAALSHKLPRLVEPSDIKGDLHNHTDASDGVDSLEEMASAAQNKGYEYLGITDHSQSLKIANGLSDERLIEQIDEIRKLNEKWSDFRLLHGAECDILKDGSLDYSDEVLSQLDHVVASVHSWFKMDEEEMTERLIRAIENPKVTILGHPTGRIIGGREGYPVDMEAVIRAAGELNTALEINSSPERLDLDDELCKFAKEQGVPFSINTDAHNPNGLDDMRFGVGIARRGWLEKEDILNTLSLAELEKRLGL'"
   ]
  },
  {
   "cell_type": "code",
   "execution_count": null,
   "id": "e88069dc-4c34-4070-8613-d1181f1b7294",
   "metadata": {},
   "outputs": [],
   "source": [
    "for i in pfam_data_bird.index:\n",
    "#, pfam_data_bird[7][i]-pfam_data_bird[6][i],\n",
    "    print(pfam_data_bird[5][i], bird_cons[pfam_data_bird[6][i]:pfam_data_bird[7][i]])\n"
   ]
  },
  {
   "cell_type": "code",
   "execution_count": null,
   "id": "93599290-5fde-4aaf-8f73-0d90fac9de57",
   "metadata": {},
   "outputs": [],
   "source": [
    "for i in pfam_data_term.index:\n",
    "    #, pfam_data_term[7][i]-pfam_data_term[6][i]\n",
    "    print(pfam_data_term[5][i], tero_cons[pfam_data_term[6][i]:pfam_data_term[7][i]])\n"
   ]
  },
  {
   "cell_type": "code",
   "execution_count": null,
   "id": "eecf6b35-99bb-44fb-8955-fa4c9fa359c7",
   "metadata": {},
   "outputs": [],
   "source": [
    "tero_cons[92:144]"
   ]
  },
  {
   "cell_type": "code",
   "execution_count": null,
   "id": "504b6d8e-10b9-4e57-ab2e-91935b6bdbfd",
   "metadata": {},
   "outputs": [],
   "source": [
    "interpro_tab = read_csv('archea_termophil_interpro.tsv', sep='\\t', header=None)\n",
    "\n",
    "interpro_tab[interpro_tab[3] == 'Pfam']"
   ]
  },
  {
   "cell_type": "code",
   "execution_count": null,
   "id": "5ac93004-496c-47c5-bfcb-78993bfe7a33",
   "metadata": {},
   "outputs": [],
   "source": []
  }
 ],
 "metadata": {
  "kernelspec": {
   "display_name": "Python 3 (ipykernel)",
   "language": "python",
   "name": "python3"
  },
  "language_info": {
   "codemirror_mode": {
    "name": "ipython",
    "version": 3
   },
   "file_extension": ".py",
   "mimetype": "text/x-python",
   "name": "python",
   "nbconvert_exporter": "python",
   "pygments_lexer": "ipython3",
   "version": "3.7.12"
  }
 },
 "nbformat": 4,
 "nbformat_minor": 5
}
