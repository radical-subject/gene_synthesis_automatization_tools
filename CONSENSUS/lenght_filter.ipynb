{
 "cells": [
  {
   "cell_type": "code",
   "execution_count": 2,
   "id": "17dc5989",
   "metadata": {},
   "outputs": [
    {
     "name": "stdout",
     "output_type": "stream",
     "text": [
      "\u001b[33mWARNING: The directory '/home/jovyan/.cache/pip' or its parent directory is not owned or is not writable by the current user. The cache has been disabled. Check the permissions and owner of that directory. If executing pip with sudo, you should use sudo's -H flag.\u001b[0m\u001b[33m\n",
      "\u001b[0mRequirement already satisfied: biopython in /opt/conda/lib/python3.7/site-packages (1.81)\n",
      "Requirement already satisfied: numpy in /opt/conda/lib/python3.7/site-packages (from biopython) (1.21.6)\n",
      "\u001b[33mWARNING: Running pip as the 'root' user can result in broken permissions and conflicting behaviour with the system package manager. It is recommended to use a virtual environment instead: https://pip.pypa.io/warnings/venv\u001b[0m\u001b[33m\n",
      "\u001b[0m"
     ]
    }
   ],
   "source": [
    "!pip install biopython "
   ]
  },
  {
   "cell_type": "code",
   "execution_count": 4,
   "id": "40c6c526",
   "metadata": {},
   "outputs": [
    {
     "name": "stdout",
     "output_type": "stream",
     "text": [
      "Filtered file saved as data/filtered_output.fasta\n"
     ]
    }
   ],
   "source": [
    "from Bio import SeqIO\n",
    "\n",
    "def filter_fasta(input_file, output_file):\n",
    "    \"\"\"\n",
    "    Filters out protein sequences containing 'fragment' in their description from a .fasta file.\n",
    "    \n",
    "    Args:\n",
    "    input_file (str): Path to the input .fasta file.\n",
    "    output_file (str): Path to save the filtered .fasta file.\n",
    "    \"\"\"\n",
    "    # Load sequences from the input file\n",
    "    sequences = SeqIO.parse(input_file, 'fasta')\n",
    "    \n",
    "    # Filter sequences to exclude those with 'fragment' in the description\n",
    "    filtered_sequences = [seq for seq in sequences if 'fragment' not in seq.description.lower()]\n",
    "    \n",
    "    # Save the filtered sequences to the output file\n",
    "    SeqIO.write(filtered_sequences, output_file, 'fasta')\n",
    "\n",
    "    print(f\"Filtered file saved as {output_file}\")\n",
    "\n",
    "# Example usage\n",
    "input_path = 'data/Tdts_from_PIR.fasta'\n",
    "output_path = 'data/filtered_output.fasta'\n",
    "filter_fasta(input_path, output_path)"
   ]
  },
  {
   "cell_type": "code",
   "execution_count": 6,
   "id": "41990b98",
   "metadata": {},
   "outputs": [
    {
     "name": "stdout",
     "output_type": "stream",
     "text": [
      "Total protein sequences: 568\n"
     ]
    }
   ],
   "source": [
    "from Bio import SeqIO\n",
    "\n",
    "def count_protein_sequences(fasta_file):\n",
    "    \"\"\"\n",
    "    Counts the number of protein sequences in a .fasta file.\n",
    "    \n",
    "    Args:\n",
    "    fasta_file (str): Path to the .fasta file.\n",
    "    \n",
    "    Returns:\n",
    "    int: Number of protein sequences in the file.\n",
    "    \"\"\"\n",
    "    # Load sequences from the fasta file\n",
    "    sequences = SeqIO.parse(fasta_file, 'fasta')\n",
    "    \n",
    "    # Count the sequences\n",
    "    count = sum(1 for _ in sequences)\n",
    "    \n",
    "    return count\n",
    "\n",
    "# Example usage\n",
    "fasta_path = 'data/filtered_output.fasta'\n",
    "sequence_count = count_protein_sequences(fasta_path)\n",
    "print(f\"Total protein sequences: {sequence_count}\")"
   ]
  },
  {
   "cell_type": "code",
   "execution_count": 5,
   "id": "3cbc540c",
   "metadata": {},
   "outputs": [
    {
     "name": "stdout",
     "output_type": "stream",
     "text": [
      "Total protein sequences: 784\n"
     ]
    }
   ],
   "source": [
    "from Bio import SeqIO\n",
    "\n",
    "def count_protein_sequences(fasta_file):\n",
    "    \"\"\"\n",
    "    Counts the number of protein sequences in a .fasta file.\n",
    "    \n",
    "    Args:\n",
    "    fasta_file (str): Path to the .fasta file.\n",
    "    \n",
    "    Returns:\n",
    "    int: Number of protein sequences in the file.\n",
    "    \"\"\"\n",
    "    # Load sequences from the fasta file\n",
    "    sequences = SeqIO.parse(fasta_file, 'fasta')\n",
    "    \n",
    "    # Count the sequences\n",
    "    count = sum(1 for _ in sequences)\n",
    "    \n",
    "    return count\n",
    "\n",
    "# Example usage\n",
    "fasta_path = 'data/Tdts_from_PIR.fasta'\n",
    "sequence_count = count_protein_sequences(fasta_path)\n",
    "print(f\"Total protein sequences: {sequence_count}\")\n"
   ]
  },
  {
   "cell_type": "code",
   "execution_count": 11,
   "id": "dc3b18dd",
   "metadata": {},
   "outputs": [
    {
     "name": "stdout",
     "output_type": "stream",
     "text": [
      "Deduplicated file saved as data/unique_Tdts_fromPIR_filtered_from_fragments.fasta\n"
     ]
    }
   ],
   "source": [
    "from Bio import SeqIO\n",
    "\n",
    "def remove_duplicate_sequences(input_file, output_file):\n",
    "    \"\"\"\n",
    "    Removes duplicate protein sequences from a .fasta file and saves the unique sequences.\n",
    "    \n",
    "    Args:\n",
    "    input_file (str): Path to the input .fasta file.\n",
    "    output_file (str): Path to save the deduplicated .fasta file.\n",
    "    \"\"\"\n",
    "    # Load sequences from the input file\n",
    "    sequences = SeqIO.parse(input_file, 'fasta')\n",
    "    \n",
    "    # Track unique sequences using a set\n",
    "    unique_sequences = {}\n",
    "    for seq in sequences:\n",
    "        if seq.seq not in unique_sequences:\n",
    "            unique_sequences[seq.seq] = seq\n",
    "    \n",
    "    # Save the unique sequences to the output file\n",
    "    SeqIO.write(unique_sequences.values(), output_file, 'fasta')\n",
    "    \n",
    "    print(f\"Deduplicated file saved as {output_file}\")\n",
    "\n",
    "# Example usage\n",
    "input_path = 'data/Tdts_fromPIR_filtered_from_fragments.fasta'\n",
    "output_path = 'data/unique_Tdts_fromPIR_filtered_from_fragments.fasta'\n",
    "remove_duplicate_sequences(input_path, output_path)\n"
   ]
  },
  {
   "cell_type": "code",
   "execution_count": 12,
   "id": "4b2cedcb",
   "metadata": {},
   "outputs": [
    {
     "name": "stdout",
     "output_type": "stream",
     "text": [
      "Total protein sequences: 519\n"
     ]
    }
   ],
   "source": [
    "from Bio import SeqIO\n",
    "\n",
    "def count_protein_sequences(fasta_file):\n",
    "    \"\"\"\n",
    "    Counts the number of protein sequences in a .fasta file.\n",
    "    \n",
    "    Args:\n",
    "    fasta_file (str): Path to the .fasta file.\n",
    "    \n",
    "    Returns:\n",
    "    int: Number of protein sequences in the file.\n",
    "    \"\"\"\n",
    "    # Load sequences from the fasta file\n",
    "    sequences = SeqIO.parse(fasta_file, 'fasta')\n",
    "    \n",
    "    # Count the sequences\n",
    "    count = sum(1 for _ in sequences)\n",
    "    \n",
    "    return count\n",
    "\n",
    "# Example usage\n",
    "fasta_path = 'data/unique_Tdts_fromPIR_filtered_from_fragments.fasta'\n",
    "sequence_count = count_protein_sequences(fasta_path)\n",
    "print(f\"Total protein sequences: {sequence_count}\")"
   ]
  },
  {
   "cell_type": "code",
   "execution_count": 7,
   "id": "bb0b5098",
   "metadata": {
    "scrolled": true
   },
   "outputs": [
    {
     "name": "stdout",
     "output_type": "stream",
     "text": [
      "\u001b[33mWARNING: The directory '/home/jovyan/.cache/pip' or its parent directory is not owned or is not writable by the current user. The cache has been disabled. Check the permissions and owner of that directory. If executing pip with sudo, you should use sudo's -H flag.\u001b[0m\u001b[33m\n",
      "\u001b[0mCollecting argparse\n",
      "  Downloading argparse-1.4.0-py2.py3-none-any.whl (23 kB)\n",
      "Requirement already satisfied: numpy in /opt/conda/lib/python3.7/site-packages (1.21.6)\n",
      "Requirement already satisfied: matplotlib in /opt/conda/lib/python3.7/site-packages (3.5.3)\n",
      "Requirement already satisfied: fonttools>=4.22.0 in /opt/conda/lib/python3.7/site-packages (from matplotlib) (4.37.4)\n",
      "Requirement already satisfied: pillow>=6.2.0 in /opt/conda/lib/python3.7/site-packages (from matplotlib) (9.2.0)\n",
      "Requirement already satisfied: kiwisolver>=1.0.1 in /opt/conda/lib/python3.7/site-packages (from matplotlib) (1.4.4)\n",
      "Requirement already satisfied: python-dateutil>=2.7 in /opt/conda/lib/python3.7/site-packages (from matplotlib) (2.8.2)\n",
      "Requirement already satisfied: packaging>=20.0 in /opt/conda/lib/python3.7/site-packages (from matplotlib) (21.3)\n",
      "Requirement already satisfied: cycler>=0.10 in /opt/conda/lib/python3.7/site-packages (from matplotlib) (0.11.0)\n",
      "Requirement already satisfied: pyparsing>=2.2.1 in /opt/conda/lib/python3.7/site-packages (from matplotlib) (3.0.9)\n",
      "Requirement already satisfied: typing-extensions in /opt/conda/lib/python3.7/site-packages (from kiwisolver>=1.0.1->matplotlib) (4.4.0)\n",
      "Requirement already satisfied: six>=1.5 in /opt/conda/lib/python3.7/site-packages (from python-dateutil>=2.7->matplotlib) (1.16.0)\n",
      "Installing collected packages: argparse\n",
      "Successfully installed argparse-1.4.0\n",
      "\u001b[33mWARNING: Running pip as the 'root' user can result in broken permissions and conflicting behaviour with the system package manager. It is recommended to use a virtual environment instead: https://pip.pypa.io/warnings/venv\u001b[0m\u001b[33m\n",
      "\u001b[0m"
     ]
    }
   ],
   "source": [
    "!pip install argparse numpy matplotlib"
   ]
  },
  {
   "cell_type": "code",
   "execution_count": 8,
   "id": "771efe6b",
   "metadata": {},
   "outputs": [
    {
     "ename": "ModuleNotFoundError",
     "evalue": "No module named 'modules'",
     "output_type": "error",
     "traceback": [
      "\u001b[0;31m---------------------------------------------------------------------------\u001b[0m",
      "\u001b[0;31mModuleNotFoundError\u001b[0m                       Traceback (most recent call last)",
      "\u001b[0;32m/tmp/ipykernel_5557/120516562.py\u001b[0m in \u001b[0;36m<module>\u001b[0;34m\u001b[0m\n\u001b[1;32m      6\u001b[0m \u001b[0;32mimport\u001b[0m \u001b[0mos\u001b[0m\u001b[0;34m\u001b[0m\u001b[0;34m\u001b[0m\u001b[0m\n\u001b[1;32m      7\u001b[0m \u001b[0;32mimport\u001b[0m \u001b[0msys\u001b[0m\u001b[0;34m\u001b[0m\u001b[0;34m\u001b[0m\u001b[0m\n\u001b[0;32m----> 8\u001b[0;31m \u001b[0;32mimport\u001b[0m \u001b[0mmodules\u001b[0m\u001b[0;34m\u001b[0m\u001b[0;34m\u001b[0m\u001b[0m\n\u001b[0m",
      "\u001b[0;31mModuleNotFoundError\u001b[0m: No module named 'modules'"
     ]
    }
   ],
   "source": [
    "#!/usr/bin/env python3\n",
    "import argparse\n",
    "import numpy as np\n",
    "import matplotlib as mpl\n",
    "import matplotlib.pyplot as plt\n",
    "import os\n",
    "import sys\n",
    "import modules"
   ]
  },
  {
   "cell_type": "code",
   "execution_count": null,
   "id": "4c4ab267",
   "metadata": {},
   "outputs": [],
   "source": [
    "if __name__ == '__main__':\n",
    "\n",
    "    #Set path to current directory\n",
    "    path = os.getcwd() + '/data/Tdts_from_PIR.fasta'\n",
    "    \n",
    "    #make directory for outputs if it does not exist\n",
    "    if not os.path.exists('Outputs/'):\n",
    "        os.makedirs('Outputs/')\n",
    "\n",
    "    parser = argparse.ArgumentParser()\n",
    "\n",
    "    parser.add_argument('-i', required=True, metavar = 'Input FASTA file', help='Filename for FASTA alignment.')\n",
    "    parser.add_argument('-o', metavar = 'Output FASTA filename. If not given will use name of input FASTA file as template to name output files.', default='out.txt', help='Output FASTA filename')\n",
    "    parser.add_argument('-t', metavar = 'Length filtering threshold', type=float, default=0.3, help='Sequence length filtering threshold value (default: 0.3 for removing sequences that deviate +/- 30% from median sequence length of set, change with -t flag). Must be a value between 0 and 1.')\n",
    "    parser.add_argument('-f', action='store_true', help='Include flag to prevent saving image of sequence lengths histogram')\n",
    "    parser.add_argument('-a', action='store_true', help='Include flag to keep gaps in sequences for output FASTA alignment (not recommended for further curation).')\n",
    "\n",
    "    args = parser.parse_args()\n",
    "\n",
    "    # show help if no arguments passed\n",
    "    if len(sys.argv) < 2:\n",
    "        parser.print_help()\n",
    "        sys.exit(1)\n",
    "\n",
    "    #FIGURE SETTINGS\n",
    "    mpl.rcParams['axes.titlesize'] = 18\n",
    "    mpl.rcParams['axes.labelsize'] = 18\n",
    "    mpl.rcParams['xtick.labelsize'] = 14\n",
    "    mpl.rcParams['ytick.labelsize'] = 14\n",
    "    mpl.rcParams['axes.facecolor'] = 'FFFFFF'\n",
    "    mpl.rcParams['axes.edgecolor'] = '000000'\n",
    "    mpl.rcParams['axes.linewidth'] = 1.0\n",
    "    mpl.rcParams['axes.labelweight'] = 'regular'\n",
    "    mpl.rcParams['xtick.major.pad'] = 3\n",
    "    mpl.rcParams['ytick.major.pad'] = 3\n",
    "    plt.rcParams['font.family'] = 'sans-serif'\n",
    "\n",
    "\n",
    "    print()\n",
    "    print(f'Reading file: {args.i}')\n",
    "    print()\n",
    "\n",
    "    #read FASTA and populate lists for sequences and IDs\n",
    "    seqs = list()\n",
    "    names = list()\n",
    "    \n",
    "    #flag to strip gaps when cleaning sequence\n",
    "    strip_gaps = True\n",
    "    \n",
    "    try:\n",
    "        with open(args.i, 'r') as n:\n",
    "            seqs, ids = modules.read_fasta(n, strip_gaps)\n",
    "    except FileNotFoundError:\n",
    "        print(f'Could not find file: {args.i}')\n",
    "        sys.exit(1)\n",
    "        \n",
    "    #If no sequences were added to list, file was not in FASTA format\n",
    "    if len(seqs) < 1:\n",
    "        print('Provided file is not in FASTA format.')\n",
    "        sys.exit(1)\n",
    "\n",
    "    num_seqs = len(seqs)\n",
    "    print(f'Number of sequences in initial sequence set: {num_seqs}')\n",
    "    print()\n",
    "\n",
    "    #Calculating lengths of all sequences in alignment\n",
    "    #Note: gaps are removed before calculating sequence lengths\n",
    "    lengths = modules.calc_lengths(seqs)\n",
    "    \n",
    "    threshold = args.t\n",
    "    if threshold < 0 or threshold > 1:\n",
    "        print('Sequence filtering threshold must be between 0 and 1')\n",
    "        sys.exit(1)\n",
    "\n",
    "    #Calculating statistics for length filtering\n",
    "    med_length = int(np.median(lengths))\n",
    "    lower_threshold = int(round(med_length - med_length * threshold))\n",
    "    upper_threshold = int(round(med_length + med_length * threshold))\n",
    "\n",
    "    print(f'Median sequence length: {med_length} residues')\n",
    "    print(f'Sequence length lower boundary: {lower_threshold} residues')\n",
    "    print(f'Sequence length upper boundary: {upper_threshold} residues')\n",
    "    print()\n",
    "\n",
    "    #Create FASTA of sequences that fall within threshold values\n",
    "    #Gaps are remove gaps from sequences unless user indicates otherwise with -a flag\n",
    "    out_fasta = list()\n",
    "    if args.a:\n",
    "        for i, (j, k, l) in enumerate(zip(lengths, ids, seqs)):\n",
    "            if j >= lower_threshold and j <= upper_threshold:\n",
    "                if i != num_seqs - 1:\n",
    "                    out_fasta.append(f'{k}\\n{l}\\n')\n",
    "                else:\n",
    "                    out_fasta.append(f'{k}\\n{l}')\n",
    "    else:\n",
    "        for i, (j, k, l) in enumerate(zip(lengths, ids, seqs)):\n",
    "            if j >= lower_threshold and j <= upper_threshold:\n",
    "                if i != num_seqs - 1:\n",
    "                    out_fasta.append(f\"{k}\\n{l.replace('-','')}\\n\")\n",
    "                else:\n",
    "                    out_fasta.append(f\"{k}\\n{l.replace('-','')}\")\n",
    "                    \n",
    "\n",
    "    num_seqs_out = len(out_fasta)\n",
    "    print(f'Number of sequences in final sequence set: {num_seqs_out}')\n",
    "    print()\n",
    "\n",
    "    #Setting path for file outputs\n",
    "    #If the user does not supply a name for the output, use input file name\n",
    "    #If user used a file from the Inputs directory, must remove 'Inputs/' from path\n",
    "    out_file_name = args.o\n",
    "    if out_file_name == 'out.txt':\n",
    "        out_file_prefix = os.path.splitext(args.i)[0]\n",
    "        if 'Inputs' in out_file_prefix:\n",
    "            out_file_prefix = out_file_prefix.split('/')[1]\n",
    "    else:\n",
    "        out_file_prefix = out_file_name.split('.')[0]\n",
    "\n",
    "    #Save figure if -f flag is not given\n",
    "    if not args.f:\n",
    "        fig, ax = plt.subplots()\n",
    "        ax.hist(lengths, bins='doane', color='b', edgecolor='k', alpha=0.65)\n",
    "        ax.set_xlabel('Sequence length')\n",
    "        ax.set_ylabel('Count')\n",
    "        ax.axvline(med_length - threshold*med_length, color='k', linestyle='dashed')\n",
    "        ax.axvline(med_length + threshold*med_length, color='k', linestyle='dashed')\n",
    "        fig.savefig(f'{path}Outputs/{out_file_prefix}_sequence_length_hist.png', bbox_inches = 'tight', dpi = 300)\n",
    "        plt.close()\n",
    "    \n",
    "    #Save length filtered alignment\n",
    "    with open(f'{path}Outputs/{out_file_prefix}_lengthFiltered.txt', 'w') as f:\n",
    "        f.writelines(out_fasta)\n",
    "        \n",
    "    #Write summary of analysis to file\n",
    "    with open(f'{path}Outputs/{out_file_prefix}_lengthFiltered_output.txt', 'w', newline='') as f:\n",
    "        f.write(f'Filtered sequence set: {args.i}\\n\\n')\n",
    "        f.write('Parameters used:\\n')\n",
    "        f.write(f'Sequence length filtering threshold: {threshold}\\n\\n')\n",
    "        f.write(f'Number of sequences in initial alignment: {num_seqs}\\n\\n')\n",
    "        f.write(f'Median sequence length: {med_length} residues\\n')\n",
    "        f.write(f'Sequence length lower boundary: {lower_threshold} residues\\n')\n",
    "        f.write(f'Sequence length upper boundary: {upper_threshold} residues\\n\\n')\n",
    "        f.write(f'Number of sequences in final alignment: {num_seqs_out}\\n\\n')\n",
    "        f.write(f'Wrote length filtered sequence set to: {out_file_prefix}_lengthFiltered.txt')\n",
    "        \n",
    "    print(f'Wrote filtered alignment to: Outputs/{out_file_prefix}_lengthFiltered.txt')"
   ]
  }
 ],
 "metadata": {
  "kernelspec": {
   "display_name": "Python 3 (ipykernel)",
   "language": "python",
   "name": "python3"
  },
  "language_info": {
   "codemirror_mode": {
    "name": "ipython",
    "version": 3
   },
   "file_extension": ".py",
   "mimetype": "text/x-python",
   "name": "python",
   "nbconvert_exporter": "python",
   "pygments_lexer": "ipython3",
   "version": "3.7.12"
  }
 },
 "nbformat": 4,
 "nbformat_minor": 5
}
