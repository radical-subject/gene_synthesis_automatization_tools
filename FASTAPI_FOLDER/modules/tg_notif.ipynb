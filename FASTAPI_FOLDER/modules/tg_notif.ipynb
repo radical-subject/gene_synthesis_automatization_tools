{
 "cells": [
  {
   "cell_type": "code",
   "execution_count": 4,
   "id": "b93c082c",
   "metadata": {},
   "outputs": [],
   "source": [
    "import time\n",
    "import requests\n",
    "chat_id = \"403278079\"\n",
    "\n",
    "def check_and_notify(chat_id):\n",
    "    # Замените следующие значения на ваш Telegram bot token и chat_id\n",
    "    bot_token = \"6413423789:AAElRZhIcR-iQaY_6jsUx3Mag-MtyIpCQzw\"\n",
    "    \n",
    "\n",
    "    notification_sent = False\n",
    "\n",
    "    while True:\n",
    "        with open('runfile.txt', 'r') as f:\n",
    "            content = f.read()\n",
    "            if 'Synthesis complete' in content and not notification_sent:\n",
    "                url = f\"https://api.telegram.org/bot{bot_token}/sendMessage\"\n",
    "                payload = {\n",
    "                    \"chat_id\": chat_id,\n",
    "                    \"text\": 'Synthesis complete'\n",
    "                }\n",
    "                requests.post(url, payload)\n",
    "                print('Telegram notification sent.')\n",
    "                notification_sent = True  # Установите флаг, чтобы не отправлять уведомление снова\n",
    "                break  # Выход из цикла\n",
    "            else:\n",
    "                print('Synthesis not complete yet. Checking again in 2 minutes.')\n",
    "                time.sleep(120)  # Пауза на 2 минуты"
   ]
  },
  {
   "cell_type": "code",
   "execution_count": null,
   "id": "6d600615",
   "metadata": {},
   "outputs": [],
   "source": []
  }
 ],
 "metadata": {
  "kernelspec": {
   "display_name": "Python 3 (ipykernel)",
   "language": "python",
   "name": "python3"
  },
  "language_info": {
   "codemirror_mode": {
    "name": "ipython",
    "version": 3
   },
   "file_extension": ".py",
   "mimetype": "text/x-python",
   "name": "python",
   "nbconvert_exporter": "python",
   "pygments_lexer": "ipython3",
   "version": "3.7.12"
  }
 },
 "nbformat": 4,
 "nbformat_minor": 5
}
