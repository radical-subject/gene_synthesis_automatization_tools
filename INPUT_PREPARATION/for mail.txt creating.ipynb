{
 "cells": [
  {
   "cell_type": "code",
   "execution_count": null,
   "id": "eb647b5d",
   "metadata": {},
   "outputs": [],
   "source": [
    "import os\n",
    "from datetime import datetime\n",
    "import smtplib\n",
    "\n",
    "import email.utils\n",
    "import email.header\n",
    "\n",
    "from email.message import EmailMessage"
   ]
  },
  {
   "cell_type": "code",
   "execution_count": null,
   "id": "73ecdc6c",
   "metadata": {},
   "outputs": [],
   "source": [
    "EMAIL_ADDRESS = 'oligosynthesis@sysbiomed.ru'\n",
    "EMAIL_PASSWORD = '9Qzu22sg0EaJi9SBbX9M'"
   ]
  },
  {
   "cell_type": "code",
   "execution_count": null,
   "id": "78b6dddc",
   "metadata": {},
   "outputs": [],
   "source": []
  }
 ],
 "metadata": {
  "kernelspec": {
   "display_name": "Python 3 (ipykernel)",
   "language": "python",
   "name": "python3"
  },
  "language_info": {
   "codemirror_mode": {
    "name": "ipython",
    "version": 3
   },
   "file_extension": ".py",
   "mimetype": "text/x-python",
   "name": "python",
   "nbconvert_exporter": "python",
   "pygments_lexer": "ipython3",
   "version": "3.7.12"
  }
 },
 "nbformat": 4,
 "nbformat_minor": 5
}
