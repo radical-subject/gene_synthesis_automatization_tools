{
 "cells": [
  {
   "cell_type": "code",
   "execution_count": 3,
   "id": "90cd5112",
   "metadata": {
    "scrolled": true
   },
   "outputs": [
    {
     "name": "stdout",
     "output_type": "stream",
     "text": [
      "\u001b[33mWARNING: The directory '/home/jovyan/.cache/pip' or its parent directory is not owned or is not writable by the current user. The cache has been disabled. Check the permissions and owner of that directory. If executing pip with sudo, you should use sudo's -H flag.\u001b[0m\u001b[33m\n",
      "\u001b[0mRequirement already satisfied: numpy in /opt/conda/lib/python3.7/site-packages (1.21.6)\n",
      "\u001b[33mWARNING: Running pip as the 'root' user can result in broken permissions and conflicting behaviour with the system package manager. It is recommended to use a virtual environment instead: https://pip.pypa.io/warnings/venv\u001b[0m\u001b[33m\n",
      "\u001b[0m\u001b[33mWARNING: The directory '/home/jovyan/.cache/pip' or its parent directory is not owned or is not writable by the current user. The cache has been disabled. Check the permissions and owner of that directory. If executing pip with sudo, you should use sudo's -H flag.\u001b[0m\u001b[33m\n",
      "\u001b[0mCollecting pyopenms\n",
      "  Downloading pyopenms-2.7.0-cp37-cp37m-manylinux2014_x86_64.whl (49.0 MB)\n",
      "\u001b[2K     \u001b[90m━━━━━━━━━━━━━━━━━━━━━━━━━━━━━━━━━━━━━━━━\u001b[0m \u001b[32m49.0/49.0 MB\u001b[0m \u001b[31m5.2 MB/s\u001b[0m eta \u001b[36m0:00:00\u001b[0m00:01\u001b[0m00:01\u001b[0mm\n",
      "\u001b[?25hRequirement already satisfied: numpy in /opt/conda/lib/python3.7/site-packages (from pyopenms) (1.21.6)\n",
      "Installing collected packages: pyopenms\n",
      "Successfully installed pyopenms-2.7.0\n",
      "\u001b[33mWARNING: Running pip as the 'root' user can result in broken permissions and conflicting behaviour with the system package manager. It is recommended to use a virtual environment instead: https://pip.pypa.io/warnings/venv\u001b[0m\u001b[33m\n",
      "\u001b[0m\u001b[33mWARNING: The directory '/home/jovyan/.cache/pip' or its parent directory is not owned or is not writable by the current user. The cache has been disabled. Check the permissions and owner of that directory. If executing pip with sudo, you should use sudo's -H flag.\u001b[0m\u001b[33m\n",
      "\u001b[0mCollecting biopython\n",
      "  Downloading biopython-1.81-cp37-cp37m-manylinux_2_17_x86_64.manylinux2014_x86_64.whl (3.0 MB)\n",
      "\u001b[2K     \u001b[90m━━━━━━━━━━━━━━━━━━━━━━━━━━━━━━━━━━━━━━━━\u001b[0m \u001b[32m3.0/3.0 MB\u001b[0m \u001b[31m4.8 MB/s\u001b[0m eta \u001b[36m0:00:00\u001b[0m00:01\u001b[0m00:01\u001b[0mm\n",
      "\u001b[?25hRequirement already satisfied: numpy in /opt/conda/lib/python3.7/site-packages (from biopython) (1.21.6)\n",
      "Installing collected packages: biopython\n",
      "Successfully installed biopython-1.81\n",
      "\u001b[33mWARNING: Running pip as the 'root' user can result in broken permissions and conflicting behaviour with the system package manager. It is recommended to use a virtual environment instead: https://pip.pypa.io/warnings/venv\u001b[0m\u001b[33m\n",
      "\u001b[0m\u001b[33mWARNING: The directory '/home/jovyan/.cache/pip' or its parent directory is not owned or is not writable by the current user. The cache has been disabled. Check the permissions and owner of that directory. If executing pip with sudo, you should use sudo's -H flag.\u001b[0m\u001b[33m\n",
      "\u001b[0mCollecting openpyxl\n",
      "  Downloading openpyxl-3.1.2-py2.py3-none-any.whl (249 kB)\n",
      "\u001b[2K     \u001b[90m━━━━━━━━━━━━━━━━━━━━━━━━━━━━━━━━━━━━━━━\u001b[0m \u001b[32m250.0/250.0 kB\u001b[0m \u001b[31m1.8 MB/s\u001b[0m eta \u001b[36m0:00:00\u001b[0ma \u001b[36m0:00:01\u001b[0m\n",
      "\u001b[?25hCollecting et-xmlfile\n",
      "  Downloading et_xmlfile-1.1.0-py3-none-any.whl (4.7 kB)\n",
      "Installing collected packages: et-xmlfile, openpyxl\n",
      "Successfully installed et-xmlfile-1.1.0 openpyxl-3.1.2\n",
      "\u001b[33mWARNING: Running pip as the 'root' user can result in broken permissions and conflicting behaviour with the system package manager. It is recommended to use a virtual environment instead: https://pip.pypa.io/warnings/venv\u001b[0m\u001b[33m\n",
      "\u001b[0m"
     ]
    }
   ],
   "source": [
    "!pip install numpy\n",
    "!pip install pyopenms\n",
    "!pip install biopython\n",
    "!pip install openpyxl"
   ]
  },
  {
   "cell_type": "code",
   "execution_count": null,
   "id": "503fc0ef",
   "metadata": {},
   "outputs": [],
   "source": [
    "# # -*- coding: utf-8 -*-\n",
    "# # Kamil's code\n",
    "# # неактуальная ячейка с кодом \n",
    "\n",
    "# import pandas as pd\n",
    "# import os\n",
    "\n",
    "# # specifying the path to csv files\n",
    "# path = \"./requests/KJE0002\"\n",
    " \n",
    "# # csv files in the path\n",
    "# file_paths = glob.glob(path + \"/*.xlsx\")\n",
    "\n",
    "# def is_valid_sequence(seq):\n",
    "#     if pd.isna(seq):\n",
    "#         return False\n",
    "#     valid_chars = set(\"ATGCUYRSWKMBDHVN.-\")\n",
    "#     return all(c in valid_chars for c in str(seq))\n",
    "\n",
    "# def process_excel_files(file_paths):\n",
    "#     # Список для хранения обработанных DataFrame из каждого файла\n",
    "#     dfs_list = []\n",
    "\n",
    "#     for file_path in file_paths:\n",
    "#         # Чтение файла Excel\n",
    "#         df = pd.read_excel(file_path)\n",
    "\n",
    "#         # Получение имени самого левого столбца\n",
    "#         leftmost_column = df.columns[0]\n",
    "\n",
    "#         # Фильтрация строк согласно заданным условиям\n",
    "#         df = df[df[leftmost_column].apply(is_valid_sequence)]\n",
    "\n",
    "#         # Добавление обработанного DataFrame в список\n",
    "#         dfs_list.append(df)\n",
    "\n",
    "#     # Конкатенация всех обработанных DataFrame по строкам\n",
    "#     final_df = pd.concat(dfs_list, axis=0, join='outer', ignore_index=True)\n",
    "\n",
    "#     # Сохранение результата в новый файл Excel\n",
    "#     final_df.to_excel(\"concatenated_file.xlsx\", index=False)\n",
    "\n",
    "# # Пути к файлам Excel для обработки (замените на свои пути)\n",
    "# file_paths = [\"/Users/MrZaynullin/Downloads/KJE0002/стрептококи.xlsx\",\n",
    "#               \"/Users/MrZaynullin/Downloads/KJE0002/Общий файл праймеров_NIKITEEV.xlsx\",\n",
    "#               \"/Users/MrZaynullin/Downloads/KJE0002/Копия ФОРМА ЗАКАЗА 2 Калиш - Сергей Калиш.xlsx\",\n",
    "#               \"/Users/MrZaynullin/Downloads/KJE0002/ЗАКАЗ-Ковальчук_сентябрь_ 2023 - Sveta Kovalchuk.xlsx\",\n",
    "#               \"/Users/MrZaynullin/Downloads/KJE0002/ФОРМА ЗАКАЗА - Николай Постика.xlsx\",\n",
    "#               \"/Users/MrZaynullin/Downloads/KJE0002/ФОРМА ЗАКАЗА - Николай Постика (1).xlsx\",\n",
    "#               \"/Users/MrZaynullin/Downloads/KJE0002/ФОРМА ЗАКАЗА - Tatiana Semashko.xlsx\",\n",
    "#               \"/Users/MrZaynullin/Downloads/KJE0002/PAM_CAS_FOR_OVFF376.xlsx\"\n",
    "#               ]\n",
    "# # Запуск функции обработки\n",
    "# process_excel_files(file_paths)"
   ]
  },
  {
   "cell_type": "code",
   "execution_count": 2,
   "id": "66e75945",
   "metadata": {},
   "outputs": [
    {
     "data": {
      "text/plain": [
       "['./requests/KJE0002/ФОРМА ЗАКАЗА - Николай Постика.xlsx',\n",
       " './requests/KJE0002/Копия ФОРМА ЗАКАЗА 2 Калиш - Сергей Калиш.xlsx',\n",
       " './requests/KJE0002/ФОРМА ЗАКАЗА - Николай Постика (1).xlsx',\n",
       " './requests/KJE0002/стрептококи.xlsx',\n",
       " './requests/KJE0002/PAM_CAS_FOR_OVFF376.xlsx',\n",
       " './requests/KJE0002/ФОРМА ЗАКАЗА - Tatiana Semashko.xlsx',\n",
       " './requests/KJE0002/ЗАКАЗ-Ковальчук_сентябрь_ 2023 - Sveta Kovalchuk.xlsx',\n",
       " './requests/KJE0002/Общий файл праймеров_NIKITEEV.xlsx']"
      ]
     },
     "execution_count": 2,
     "metadata": {},
     "output_type": "execute_result"
    }
   ],
   "source": [
    "\n",
    "# # importing the required modules\n",
    "# import glob\n",
    "# # specifying the path to csv files\n",
    "# path = \"./requests/KJE0002\"\n",
    " \n",
    "# # csv files in the path\n",
    "# file_list = glob.glob(path + \"/*.xlsx\")\n",
    "\n",
    "# file_list "
   ]
  },
  {
   "cell_type": "code",
   "execution_count": 55,
   "id": "4261d98e",
   "metadata": {},
   "outputs": [
    {
     "name": "stdout",
     "output_type": "stream",
     "text": [
      "./requests/KJE0006/Заявка на праймеры секв HC_LC - Viktor P.V..xlsx 6\n",
      "./requests/KJE0006/Заявка на праймеры секв HC_LC - Viktor P.V..xlsx 3\n",
      "./requests/KJE0006/ФОРМА ЗАКАЗА - Николай Постика 1.xlsx 4\n",
      "./requests/KJE0006/ФОРМА ЗАКАЗА - Николай Постика 1.xlsx 1\n",
      "./requests/KJE0006/Вибриофаг FS-1_V3 - Глеб Фисунов.xlsx 287\n",
      "./requests/KJE0006/Вибриофаг FS-1_V3 - Глеб Фисунов.xlsx 287\n",
      "./requests/KJE0006/DNA oligos Vadim  09292023 - Vadim Molodtsov.xlsx 177\n",
      "./requests/KJE0006/DNA oligos Vadim  09292023 - Vadim Molodtsov.xlsx 177\n",
      "./requests/KJE0006/из KJE0001.xlsx 54\n",
      "./requests/KJE0006/из KJE0001.xlsx 54\n",
      "./requests/KJE0006/ФОРМА ЗАКАЗА 2.xlsx 5\n",
      "./requests/KJE0006/ФОРМА ЗАКАЗА 2.xlsx 2\n",
      "./requests/KJE0006/PAM_CAS_FOR_OVFF376.xlsx 87\n",
      "./requests/KJE0006/PAM_CAS_FOR_OVFF376.xlsx 87\n",
      "./requests/KJE0006/ФОРМА ЗАКАЗА 1 .xlsx 5\n",
      "./requests/KJE0006/ФОРМА ЗАКАЗА 1 .xlsx 2\n"
     ]
    }
   ],
   "source": [
    "#######################\n",
    "###  Запускать тут ####\n",
    "#######################\n",
    "\n",
    "import glob\n",
    "import pandas as pd\n",
    "import os\n",
    "\n",
    "# CHANGE THIS\n",
    "EXPERIMENT_NAME = \"KJE0006\"\n",
    "# specifying the path to csv files\n",
    "path = f\"./requests/{EXPERIMENT_NAME}\"\n",
    " \n",
    "# csv files in the path\n",
    "file_paths = glob.glob(path + \"/*.xlsx\")\n",
    "\n",
    "def is_valid_sequence(seq):\n",
    "\n",
    "    if pd.isna(seq):\n",
    "        return False\n",
    "    valid_chars = set(\"ATGCUYRSWKMBDHVN.-\")\n",
    "    return all(c in valid_chars for c in str(seq))\n",
    "\n",
    "def process_excel_files(file_paths):\n",
    "    # Список для хранения обработанных DataFrame из каждого файла\n",
    "    dfs_list = []\n",
    "\n",
    "    for file_path in file_paths:\n",
    "        # Чтение файла Excel\n",
    "        df = pd.read_excel(file_path, header=None)\n",
    "\n",
    "        if len(df.columns)==1:\n",
    "            df = df[0].str.split(',', expand=True)\n",
    "\n",
    "        if len(df.columns)<4:\n",
    "            return print(\"ERROR IN INPUT FILE\")\n",
    "\n",
    "        # df curation\n",
    "        for column in df.columns:\n",
    "            df[column] = df[column].apply(lambda x: unicodedata.normalize('NFC', str(x)))\n",
    "        #  pandas' Series.str.strip() method\n",
    "        df = df.apply(lambda x: x.str.strip())\n",
    "        df[0] = df[0].apply(lambda x: x.upper())\n",
    "\n",
    "        # Получение имени самого левого столбца\n",
    "        leftmost_column = df.columns[0]\n",
    "        print(file_path, len(df))\n",
    "        # Фильтрация строк согласно заданным условиям\n",
    "        df = df[df[leftmost_column].apply(is_valid_sequence)]\n",
    "        print(file_path, len(df))\n",
    "        # Добавление обработанного DataFrame в список\n",
    "        dfs_list.append(df)\n",
    "        \n",
    "    return dfs_list\n",
    "        \n",
    "dfs_list=process_excel_files(file_paths)\n",
    "\n"
   ]
  },
  {
   "cell_type": "code",
   "execution_count": 58,
   "id": "4a024e3f",
   "metadata": {},
   "outputs": [],
   "source": [
    "# Конкатенация всех обработанных DataFrame по строкам\n",
    "final_df = pd.concat(dfs_list, axis=0, join='outer', ignore_index=True)\n",
    "\n",
    "if len(final_df)>384 & len(final_df)<768:\n",
    "    \n",
    "    df_A = final_df[:384]\n",
    "    df_B = final_df[384:]\n",
    "    \n",
    "    # Сохранение результата в новый файл CSV\n",
    "    df_A.to_csv(f\"./result_input/{EXPERIMENT_NAME}_concatenated_file_plate_A.csv\", index=False, sep = ',', header = None, encoding = \"UTF-8\")\n",
    "    # Сохранение результата в новый файл Excel\n",
    "    df_A.to_excel(f\"./result_input/{EXPERIMENT_NAME}_concatenated_file_plate_A.xlsx\", index=False, header = None, encoding = \"UTF-8\")\n",
    "    \n",
    "     # Сохранение результата в новый файл CSV\n",
    "    df_B.to_csv(f\"./result_input/{EXPERIMENT_NAME}_concatenated_file_plate_B.csv\", index=False, sep = ',', header = None, encoding = \"UTF-8\")\n",
    "    # Сохранение результата в новый файл Excel\n",
    "    df_B.to_excel(f\"./result_input/{EXPERIMENT_NAME}_concatenated_file_plate_B.xlsx\", index=False, header = None, encoding = \"UTF-8\")\n",
    "\n",
    "else:\n",
    "\n",
    "    # Сохранение результата в новый файл CSV\n",
    "    final_df.to_csv(f\"./result_input/{EXPERIMENT_NAME}_concatenated_file.csv\", index=False, sep = ',', header = None, encoding = \"UTF-8\")\n",
    "\n",
    "    # Сохранение результата в новый файл Excel\n",
    "    final_df.to_excel(f\"./result_input/{EXPERIMENT_NAME}_concatenated_file.xlsx\", index=False, header = None, encoding = \"UTF-8\")"
   ]
  },
  {
   "cell_type": "code",
   "execution_count": 13,
   "id": "1190b2e2",
   "metadata": {},
   "outputs": [
    {
     "data": {
      "text/plain": [
       "['./requests/KJE0006/Заявка на праймеры секв HC_LC - Viktor P.V..xlsx',\n",
       " './requests/KJE0006/ФОРМА ЗАКАЗА - Николай Постика 1.xlsx',\n",
       " './requests/KJE0006/Вибриофаг FS-1_V3 - Глеб Фисунов.xlsx',\n",
       " './requests/KJE0006/DNA oligos Vadim  09292023 - Vadim Molodtsov.xlsx',\n",
       " './requests/KJE0006/ФОРМА ЗАКАЗА 2.xlsx',\n",
       " './requests/KJE0006/ФОРМА ЗАКАЗА 1 .xlsx']"
      ]
     },
     "execution_count": 13,
     "metadata": {},
     "output_type": "execute_result"
    }
   ],
   "source": []
  },
  {
   "cell_type": "code",
   "execution_count": 53,
   "id": "c8710862",
   "metadata": {},
   "outputs": [
    {
     "ename": "SyntaxError",
     "evalue": "'return' outside function (1237529054.py, line 11)",
     "output_type": "error",
     "traceback": [
      "\u001b[0;36m  File \u001b[0;32m\"/tmp/ipykernel_51354/1237529054.py\"\u001b[0;36m, line \u001b[0;32m11\u001b[0m\n\u001b[0;31m    return print(\"ERROR IN INPUT FILE\")\u001b[0m\n\u001b[0m    ^\u001b[0m\n\u001b[0;31mSyntaxError\u001b[0m\u001b[0;31m:\u001b[0m 'return' outside function\n"
     ]
    }
   ],
   "source": [
    "\n"
   ]
  },
  {
   "cell_type": "code",
   "execution_count": null,
   "id": "b4fbd077",
   "metadata": {},
   "outputs": [],
   "source": []
  }
 ],
 "metadata": {
  "kernelspec": {
   "display_name": "Python 3 (ipykernel)",
   "language": "python",
   "name": "python3"
  },
  "language_info": {
   "codemirror_mode": {
    "name": "ipython",
    "version": 3
   },
   "file_extension": ".py",
   "mimetype": "text/x-python",
   "name": "python",
   "nbconvert_exporter": "python",
   "pygments_lexer": "ipython3",
   "version": "3.7.12"
  }
 },
 "nbformat": 4,
 "nbformat_minor": 5
}
