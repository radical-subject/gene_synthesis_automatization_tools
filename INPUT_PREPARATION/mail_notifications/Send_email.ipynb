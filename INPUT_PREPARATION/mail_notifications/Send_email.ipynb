{
 "cells": [
  {
   "cell_type": "code",
   "execution_count": 21,
   "id": "03c3f455",
   "metadata": {},
   "outputs": [],
   "source": [
    "import os\n",
    "from datetime import datetime\n",
    "import smtplib\n",
    "\n",
    "import email.utils\n",
    "import email.header\n",
    "\n",
    "from email.message import EmailMessage"
   ]
  },
  {
   "cell_type": "markdown",
   "id": "350ad0ad",
   "metadata": {},
   "source": [
    "Тут я просто объявляю логин и пароль, но на самом деле так делать не очень хорошо и нужно писать в какой-нибудь скрытый файл credentials.json как с Google API. \n",
    "\n",
    "Просто пароль от почты не подойдет, MAIL забанит такую попытку как попытку взлома. \n",
    "\n",
    "Нужна генерация временного пароля! \n",
    "\n",
    "Для этого [следуем гайду](https://help.mail.ru/mail/security/protection/external). Да, придется привязать номер телефона, но иначе никак. Если будут сложности, зовите, помогу разобраться. \n",
    "\n",
    "Здесь сразу виден наш временный пароль от Сэнгера, просьба его не использовать :D"
   ]
  },
  {
   "cell_type": "code",
   "execution_count": 33,
   "id": "555a4a26",
   "metadata": {},
   "outputs": [],
   "source": [
    "EMAIL_ADDRESS = 'oligosynthesis@sysbiomed.ru'\n",
    "EMAIL_PASSWORD = 'Lv5wAEiVL1ztsCgUuZN4'"
   ]
  },
  {
   "cell_type": "markdown",
   "id": "81c1c43c",
   "metadata": {},
   "source": [
    "Иногда почты записываются в виде \n",
    "\n",
    "`Ivan Ivanov <ivan@ivanov.com>`\n",
    "\n",
    "А иногда записываются в виде \n",
    "\n",
    "`ivan@ivanov.com`\n",
    "\n",
    "А ещё иногда ещё хуже \n",
    "\n",
    "`Иван Ивано <ivan@ivanov.com>`\n",
    "\n",
    "Чтобы в любом таком случае письмо отправилось, адрес нужно перезаписать в правильной кодировке. К счастью, это уже давно решенный вопрос.  "
   ]
  },
  {
   "cell_type": "code",
   "execution_count": 23,
   "id": "187603d8",
   "metadata": {},
   "outputs": [],
   "source": [
    "def reformat_address(s: str) -> str:\n",
    "    \"\"\"\n",
    "    Функция для форматирования имен адресатов и их почтовых адресов, честно\n",
    "    позаимствована со Stackoverflow. \\n \\n\n",
    "    :param s: строка для форматирования\n",
    "    :return: отформатированная подходящим образом строка\n",
    "    \"\"\"\n",
    "    # parse email to get user real name and email address\n",
    "    name, address = email.utils.parseaddr(s)\n",
    "    # encode the user name use utf-8 to avoid encoding error\n",
    "    name_encoded = (email.header.Header(name, 'utf-8')).encode()\n",
    "    # construct the email address again\n",
    "    return email.utils.formataddr((name_encoded, address))"
   ]
  },
  {
   "cell_type": "markdown",
   "id": "4cf91aec",
   "metadata": {},
   "source": [
    "Прочитаем файл с адресатами"
   ]
  },
  {
   "cell_type": "code",
   "execution_count": 24,
   "id": "9f82400a",
   "metadata": {},
   "outputs": [],
   "source": [
    "# формально вы можете передавать его как вам удобно \n",
    "\n",
    "with open(\"unique_emails.txt\", \"r\") as fr:\n",
    "    recipients_list = fr.read().splitlines()"
   ]
  },
  {
   "cell_type": "markdown",
   "id": "2a13dbb6",
   "metadata": {},
   "source": [
    "Создадим какой-то список приложений к письму. \n",
    "\n",
    "Важно помнить, что у каждого почтового агента свои ограничения по размерам, но несколько мегабайт точно отправятся."
   ]
  },
  {
   "cell_type": "code",
   "execution_count": 25,
   "id": "1e415804",
   "metadata": {},
   "outputs": [],
   "source": [
    "# вот тут тоже, можете каждому письму что-то свое придумать\n",
    "\n",
    "attachments_list = [\n",
    "    \"attachments/some_tables.tsv\",\n",
    "    \"attachments/some_logs.txt\",\n",
    "    \"attachments/some_reports.pdf\"\n",
    "]"
   ]
  },
  {
   "cell_type": "markdown",
   "id": "3b7be82d",
   "metadata": {},
   "source": [
    "Просто отправлять письмо скучно, сделаем какой-то динамичный шаблон для него. "
   ]
  },
  {
   "cell_type": "code",
   "execution_count": 26,
   "id": "58c74d9c",
   "metadata": {},
   "outputs": [],
   "source": [
    "# прочитаем наш шаблон письма\n",
    "# тут очень важно заранее соотнести все переменные,\n",
    "# чтобы потом не получить нелепых ошибок имен\n",
    "\n",
    "with open(\"mail.template\", \"r\", encoding=\"utf-8\") as fr:\n",
    "    template = fr.read()"
   ]
  },
  {
   "cell_type": "code",
   "execution_count": 27,
   "id": "21cf7e60",
   "metadata": {
    "scrolled": true
   },
   "outputs": [
    {
     "name": "stdout",
     "output_type": "stream",
     "text": [
      "f\"\"\"Привет! Это тестовое письмо, не пугайтесь. \n",
      "\n",
      "Это отчет команды автоматического синтеза!\n",
      "\n",
      "Отчет сформимрован {current_timestamp}, всего было синтезировано {oligos_val} олигов.\n",
      "\n",
      "Можно забрать в плашке с именем {plate_name}, лунки смотри в приложении в файле {plate_file}.\n",
      "\"\"\"\n",
      "\n"
     ]
    }
   ],
   "source": [
    "print(template)"
   ]
  },
  {
   "cell_type": "markdown",
   "id": "01c5a132",
   "metadata": {},
   "source": [
    "Как мы видим, в файле все записано как f-строка, то есть в фигурных скобках указаны имена переменных текущего исполняемого кода. \n",
    "\n",
    "Важно следить, чтобы они все существовали и были строками. \n",
    "\n",
    "Объявим их!"
   ]
  },
  {
   "cell_type": "code",
   "execution_count": 28,
   "id": "2a88c766",
   "metadata": {},
   "outputs": [],
   "source": [
    "current_timestamp = datetime.now().strftime('%Y-%m-%d %H:%M')\n",
    "oligos_val = \"455\"\n",
    "plate_name = \"OFVV322\"\n",
    "plate_file = \"some_tables.tsv\""
   ]
  },
  {
   "cell_type": "markdown",
   "id": "58ba9a78",
   "metadata": {},
   "source": [
    "А теперь мы можем исполнить эту строку, как будто бы она строка кода"
   ]
  },
  {
   "cell_type": "code",
   "execution_count": 29,
   "id": "a5d24a3e",
   "metadata": {},
   "outputs": [
    {
     "data": {
      "text/plain": [
       "str"
      ]
     },
     "execution_count": 29,
     "metadata": {},
     "output_type": "execute_result"
    }
   ],
   "source": [
    "type(eval(template))"
   ]
  },
  {
   "cell_type": "code",
   "execution_count": 30,
   "id": "f6dd2746",
   "metadata": {},
   "outputs": [
    {
     "name": "stdout",
     "output_type": "stream",
     "text": [
      "Привет! Это тестовое письмо, не пугайтесь. \n",
      "\n",
      "Это отчет команды автоматического синтеза!\n",
      "\n",
      "Отчет сформимрован 2023-10-10 15:37, всего было синтезировано 455 олигов.\n",
      "\n",
      "Можно забрать в плашке с именем OFVV322, лунки смотри в приложении в файле some_tables.tsv.\n",
      "\n"
     ]
    }
   ],
   "source": [
    "print(eval(template))"
   ]
  },
  {
   "cell_type": "markdown",
   "id": "20906ea3",
   "metadata": {},
   "source": [
    "Вот такое уже можно передавать в объект письма. \n",
    "\n",
    "Создаем тело письма"
   ]
  },
  {
   "cell_type": "code",
   "execution_count": 34,
   "id": "13076f00",
   "metadata": {},
   "outputs": [],
   "source": [
    "msg = EmailMessage()\n",
    "\n",
    "msg['Subject'] = 'This is an example mail'  # это тема письма, тоже можно подставить какое-то имя синтеза\n",
    "msg['From'] = EMAIL_ADDRESS\n",
    "# используем функцию и превращаем все в список адресатов \n",
    "# с корректными и точно кодируемыми адресамми\n",
    "# это нужно на случай идиотских имен и форматов \n",
    "msg['To'] = ', '.join(list(map(reformat_address, recipients_list)))\n",
    "\n",
    "# тут текст письма, который скомпилировали ранее\n",
    "msg.set_content(eval(template))\n",
    "\n",
    "# прикрепляем файлы\n",
    "for elem in attachments_list:\n",
    "    with open(elem, 'rb') as frb:  # главное открывать бинарно файлы, иначе не отправятся\n",
    "        msg.add_attachment(\n",
    "            frb.read(),\n",
    "            maintype='application',\n",
    "            subtype='octet-stream',\n",
    "            filename=os.path.split(elem)[1]  # вот тут извлекаем только имя файла, чтобы пути остались у нас\n",
    "        )"
   ]
  },
  {
   "cell_type": "markdown",
   "id": "fe104d57",
   "metadata": {},
   "source": [
    "И отправляем сразу всем получателям из файла. \n",
    "\n",
    "Тут сразу указаны нужные сервер и порт для нашей рабочей почты."
   ]
  },
  {
   "cell_type": "code",
   "execution_count": 35,
   "id": "4901a383",
   "metadata": {},
   "outputs": [],
   "source": [
    "with smtplib.SMTP_SSL('smtp.mail.ru', 465) as smtp:\n",
    "    smtp.login(EMAIL_ADDRESS, EMAIL_PASSWORD) \n",
    "    smtp.send_message(msg)"
   ]
  },
  {
   "cell_type": "code",
   "execution_count": 36,
   "id": "a4439eb7",
   "metadata": {},
   "outputs": [
    {
     "ename": "SMTPAuthenticationError",
     "evalue": "(535, b'5.7.0 NEOBHODIM parol prilozheniya https://help.mail.ru/mail/security/protection/external / Application password is REQUIRED')",
     "output_type": "error",
     "traceback": [
      "\u001b[0;31m---------------------------------------------------------------------------\u001b[0m",
      "\u001b[0;31mSMTPAuthenticationError\u001b[0m                   Traceback (most recent call last)",
      "\u001b[0;32m/tmp/ipykernel_287605/3847041039.py\u001b[0m in \u001b[0;36m<module>\u001b[0;34m\u001b[0m\n\u001b[1;32m      5\u001b[0m \u001b[0;34m\u001b[0m\u001b[0m\n\u001b[1;32m      6\u001b[0m \u001b[0;32mwith\u001b[0m \u001b[0msmtplib\u001b[0m\u001b[0;34m.\u001b[0m\u001b[0mSMTP_SSL\u001b[0m\u001b[0;34m(\u001b[0m\u001b[0;34m'smtp.mail.ru'\u001b[0m\u001b[0;34m,\u001b[0m \u001b[0;36m465\u001b[0m\u001b[0;34m)\u001b[0m \u001b[0;32mas\u001b[0m \u001b[0msmtp\u001b[0m\u001b[0;34m:\u001b[0m\u001b[0;34m\u001b[0m\u001b[0;34m\u001b[0m\u001b[0m\n\u001b[0;32m----> 7\u001b[0;31m     \u001b[0msmtp\u001b[0m\u001b[0;34m.\u001b[0m\u001b[0mlogin\u001b[0m\u001b[0;34m(\u001b[0m\u001b[0mEMAIL_ADDRESS\u001b[0m\u001b[0;34m,\u001b[0m \u001b[0mEMAIL_PASSWORD\u001b[0m\u001b[0;34m)\u001b[0m\u001b[0;34m\u001b[0m\u001b[0;34m\u001b[0m\u001b[0m\n\u001b[0m\u001b[1;32m      8\u001b[0m     \u001b[0;31m# Остальная часть кода для отправки сообщения\u001b[0m\u001b[0;34m\u001b[0m\u001b[0;34m\u001b[0m\u001b[0;34m\u001b[0m\u001b[0m\n",
      "\u001b[0;32m/opt/conda/lib/python3.7/smtplib.py\u001b[0m in \u001b[0;36mlogin\u001b[0;34m(self, user, password, initial_response_ok)\u001b[0m\n\u001b[1;32m    733\u001b[0m \u001b[0;34m\u001b[0m\u001b[0m\n\u001b[1;32m    734\u001b[0m         \u001b[0;31m# We could not login successfully.  Return result of last attempt.\u001b[0m\u001b[0;34m\u001b[0m\u001b[0;34m\u001b[0m\u001b[0;34m\u001b[0m\u001b[0m\n\u001b[0;32m--> 735\u001b[0;31m         \u001b[0;32mraise\u001b[0m \u001b[0mlast_exception\u001b[0m\u001b[0;34m\u001b[0m\u001b[0;34m\u001b[0m\u001b[0m\n\u001b[0m\u001b[1;32m    736\u001b[0m \u001b[0;34m\u001b[0m\u001b[0m\n\u001b[1;32m    737\u001b[0m     \u001b[0;32mdef\u001b[0m \u001b[0mstarttls\u001b[0m\u001b[0;34m(\u001b[0m\u001b[0mself\u001b[0m\u001b[0;34m,\u001b[0m \u001b[0mkeyfile\u001b[0m\u001b[0;34m=\u001b[0m\u001b[0;32mNone\u001b[0m\u001b[0;34m,\u001b[0m \u001b[0mcertfile\u001b[0m\u001b[0;34m=\u001b[0m\u001b[0;32mNone\u001b[0m\u001b[0;34m,\u001b[0m \u001b[0mcontext\u001b[0m\u001b[0;34m=\u001b[0m\u001b[0;32mNone\u001b[0m\u001b[0;34m)\u001b[0m\u001b[0;34m:\u001b[0m\u001b[0;34m\u001b[0m\u001b[0;34m\u001b[0m\u001b[0m\n",
      "\u001b[0;32m/opt/conda/lib/python3.7/smtplib.py\u001b[0m in \u001b[0;36mlogin\u001b[0;34m(self, user, password, initial_response_ok)\u001b[0m\n\u001b[1;32m    724\u001b[0m                 (code, resp) = self.auth(\n\u001b[1;32m    725\u001b[0m                     \u001b[0mauthmethod\u001b[0m\u001b[0;34m,\u001b[0m \u001b[0mgetattr\u001b[0m\u001b[0;34m(\u001b[0m\u001b[0mself\u001b[0m\u001b[0;34m,\u001b[0m \u001b[0mmethod_name\u001b[0m\u001b[0;34m)\u001b[0m\u001b[0;34m,\u001b[0m\u001b[0;34m\u001b[0m\u001b[0;34m\u001b[0m\u001b[0m\n\u001b[0;32m--> 726\u001b[0;31m                     initial_response_ok=initial_response_ok)\n\u001b[0m\u001b[1;32m    727\u001b[0m                 \u001b[0;31m# 235 == 'Authentication successful'\u001b[0m\u001b[0;34m\u001b[0m\u001b[0;34m\u001b[0m\u001b[0;34m\u001b[0m\u001b[0m\n\u001b[1;32m    728\u001b[0m                 \u001b[0;31m# 503 == 'Error: already authenticated'\u001b[0m\u001b[0;34m\u001b[0m\u001b[0;34m\u001b[0m\u001b[0;34m\u001b[0m\u001b[0m\n",
      "\u001b[0;32m/opt/conda/lib/python3.7/smtplib.py\u001b[0m in \u001b[0;36mauth\u001b[0;34m(self, mechanism, authobject, initial_response_ok)\u001b[0m\n\u001b[1;32m    645\u001b[0m         \u001b[0;32mif\u001b[0m \u001b[0mcode\u001b[0m \u001b[0;32min\u001b[0m \u001b[0;34m(\u001b[0m\u001b[0;36m235\u001b[0m\u001b[0;34m,\u001b[0m \u001b[0;36m503\u001b[0m\u001b[0;34m)\u001b[0m\u001b[0;34m:\u001b[0m\u001b[0;34m\u001b[0m\u001b[0;34m\u001b[0m\u001b[0m\n\u001b[1;32m    646\u001b[0m             \u001b[0;32mreturn\u001b[0m \u001b[0;34m(\u001b[0m\u001b[0mcode\u001b[0m\u001b[0;34m,\u001b[0m \u001b[0mresp\u001b[0m\u001b[0;34m)\u001b[0m\u001b[0;34m\u001b[0m\u001b[0;34m\u001b[0m\u001b[0m\n\u001b[0;32m--> 647\u001b[0;31m         \u001b[0;32mraise\u001b[0m \u001b[0mSMTPAuthenticationError\u001b[0m\u001b[0;34m(\u001b[0m\u001b[0mcode\u001b[0m\u001b[0;34m,\u001b[0m \u001b[0mresp\u001b[0m\u001b[0;34m)\u001b[0m\u001b[0;34m\u001b[0m\u001b[0;34m\u001b[0m\u001b[0m\n\u001b[0m\u001b[1;32m    648\u001b[0m \u001b[0;34m\u001b[0m\u001b[0m\n\u001b[1;32m    649\u001b[0m     \u001b[0;32mdef\u001b[0m \u001b[0mauth_cram_md5\u001b[0m\u001b[0;34m(\u001b[0m\u001b[0mself\u001b[0m\u001b[0;34m,\u001b[0m \u001b[0mchallenge\u001b[0m\u001b[0;34m=\u001b[0m\u001b[0;32mNone\u001b[0m\u001b[0;34m)\u001b[0m\u001b[0;34m:\u001b[0m\u001b[0;34m\u001b[0m\u001b[0;34m\u001b[0m\u001b[0m\n",
      "\u001b[0;31mSMTPAuthenticationError\u001b[0m: (535, b'5.7.0 NEOBHODIM parol prilozheniya https://help.mail.ru/mail/security/protection/external / Application password is REQUIRED')"
     ]
    }
   ],
   "source": [
    "import smtplib\n",
    "\n",
    "EMAIL_ADDRESS = \"your_email@mail.ru\"\n",
    "EMAIL_PASSWORD = \"your_application_password\"\n",
    "\n",
    "with smtplib.SMTP_SSL('smtp.mail.ru', 465) as smtp:\n",
    "    smtp.login(EMAIL_ADDRESS, EMAIL_PASSWORD)\n",
    "    # Остальная часть кода для отправки сообщения\n"
   ]
  },
  {
   "cell_type": "code",
   "execution_count": null,
   "id": "977d477d",
   "metadata": {},
   "outputs": [],
   "source": []
  },
  {
   "cell_type": "code",
   "execution_count": null,
   "id": "8343498c",
   "metadata": {},
   "outputs": [],
   "source": []
  },
  {
   "cell_type": "code",
   "execution_count": null,
   "id": "ed6305a1",
   "metadata": {},
   "outputs": [],
   "source": []
  },
  {
   "cell_type": "code",
   "execution_count": null,
   "id": "88867e0b",
   "metadata": {},
   "outputs": [],
   "source": []
  }
 ],
 "metadata": {
  "kernelspec": {
   "display_name": "Python 3 (ipykernel)",
   "language": "python",
   "name": "python3"
  },
  "language_info": {
   "codemirror_mode": {
    "name": "ipython",
    "version": 3
   },
   "file_extension": ".py",
   "mimetype": "text/x-python",
   "name": "python",
   "nbconvert_exporter": "python",
   "pygments_lexer": "ipython3",
   "version": "3.7.12"
  }
 },
 "nbformat": 4,
 "nbformat_minor": 5
}
